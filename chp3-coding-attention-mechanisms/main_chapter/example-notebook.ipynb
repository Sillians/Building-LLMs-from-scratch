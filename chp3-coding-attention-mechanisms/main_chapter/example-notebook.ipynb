{
 "cells": [
  {
   "cell_type": "code",
   "execution_count": 1,
   "id": "5b8b50a9",
   "metadata": {},
   "outputs": [
    {
     "name": "stdout",
     "output_type": "stream",
     "text": [
      "torch version: 2.0.1\n"
     ]
    }
   ],
   "source": [
    "from importlib.metadata import version\n",
    "\n",
    "print(\"torch version:\", version(\"torch\"))"
   ]
  },
  {
   "cell_type": "code",
   "execution_count": 2,
   "id": "a4453fab",
   "metadata": {},
   "outputs": [],
   "source": [
    "import torch\n",
    "\n",
    "inputs = torch.tensor(\n",
    "    [[0.43, 0.15, 0.89], # Your     (x^1)\n",
    "    [0.55, 0.87, 0.66], # journey  (x^2)\n",
    "    [0.57, 0.85, 0.64], # starts   (x^3)\n",
    "    [0.22, 0.58, 0.33], # with     (x^4)\n",
    "    [0.77, 0.25, 0.10], # one      (x^5)\n",
    "    [0.05, 0.80, 0.55]] # step     (x^6)\n",
    ")"
   ]
  },
  {
   "cell_type": "code",
   "execution_count": 3,
   "id": "b22bd503",
   "metadata": {},
   "outputs": [
    {
     "data": {
      "text/plain": [
       "tensor([[0.4300, 0.1500, 0.8900],\n",
       "        [0.5500, 0.8700, 0.6600],\n",
       "        [0.5700, 0.8500, 0.6400],\n",
       "        [0.2200, 0.5800, 0.3300],\n",
       "        [0.7700, 0.2500, 0.1000],\n",
       "        [0.0500, 0.8000, 0.5500]])"
      ]
     },
     "execution_count": 3,
     "metadata": {},
     "output_type": "execute_result"
    }
   ],
   "source": [
    "inputs"
   ]
  },
  {
   "cell_type": "code",
   "execution_count": 13,
   "id": "cb9469ec",
   "metadata": {},
   "outputs": [
    {
     "name": "stdout",
     "output_type": "stream",
     "text": [
      "Attention scores: tensor([0.9544, 1.4950, 1.4754, 0.8434, 0.7070, 1.0865])\n"
     ]
    }
   ],
   "source": [
    "query = inputs[1]  # journey (x^2)\n",
    "\n",
    "\n",
    "attention_scores = torch.empty(inputs.shape[0])  # (num_tokens,) = (6,)\n",
    "for i, x in enumerate(inputs):\n",
    "    attention_scores[i] = torch.dot(query, x)  # x^2 . x^(i)\n",
    "    \n",
    "print(\"Attention scores:\", attention_scores)"
   ]
  },
  {
   "cell_type": "code",
   "execution_count": 12,
   "id": "98338cb5",
   "metadata": {},
   "outputs": [
    {
     "data": {
      "text/plain": [
       "tensor([0.5500, 0.8700, 0.6600])"
      ]
     },
     "execution_count": 12,
     "metadata": {},
     "output_type": "execute_result"
    }
   ],
   "source": [
    "query"
   ]
  },
  {
   "cell_type": "code",
   "execution_count": 11,
   "id": "928348ef",
   "metadata": {},
   "outputs": [
    {
     "name": "stdout",
     "output_type": "stream",
     "text": [
      "0 tensor([0.4300, 0.1500, 0.8900])\n",
      "1 tensor([0.5500, 0.8700, 0.6600])\n",
      "2 tensor([0.5700, 0.8500, 0.6400])\n",
      "3 tensor([0.2200, 0.5800, 0.3300])\n",
      "4 tensor([0.7700, 0.2500, 0.1000])\n",
      "5 tensor([0.0500, 0.8000, 0.5500])\n"
     ]
    }
   ],
   "source": [
    "for i, score in enumerate(inputs):\n",
    "    print(i, score)"
   ]
  },
  {
   "cell_type": "code",
   "execution_count": 8,
   "id": "54e900ae",
   "metadata": {},
   "outputs": [
    {
     "name": "stdout",
     "output_type": "stream",
     "text": [
      "Attention score for x^1: 0.9544\n",
      "Attention score for x^2: 1.4950\n",
      "Attention score for x^3: 1.4754\n",
      "Attention score for x^4: 0.8434\n",
      "Attention score for x^5: 0.7070\n",
      "Attention score for x^6: 1.0865\n"
     ]
    }
   ],
   "source": [
    "for i, x in enumerate(inputs):\n",
    "    print(f\"Attention score for x^{i+1}: {attention_scores[i]:.4f}\")  # i+1 because i starts at 0"
   ]
  },
  {
   "cell_type": "code",
   "execution_count": 14,
   "id": "cc23ce44",
   "metadata": {},
   "outputs": [
    {
     "name": "stdout",
     "output_type": "stream",
     "text": [
      "Element 0: 0.4300000071525574\n",
      "Element 1: 0.15000000596046448\n",
      "Element 2: 0.8899999856948853\n"
     ]
    }
   ],
   "source": [
    "for idx, element in enumerate(inputs[0]):\n",
    "    print(f\"Element {idx}: {element}\")"
   ]
  },
  {
   "cell_type": "code",
   "execution_count": 15,
   "id": "dcacbe12",
   "metadata": {},
   "outputs": [
    {
     "name": "stdout",
     "output_type": "stream",
     "text": [
      "Result: tensor(0.9544)\n",
      "Dot product: tensor(0.9544)\n"
     ]
    }
   ],
   "source": [
    "res = 0.\n",
    "\n",
    "for idx, element in enumerate(inputs[0]):\n",
    "    res += inputs[0][idx] * query[idx] # x^1 * x^2[idx]\n",
    "\n",
    "print(\"Result:\", res)\n",
    "print(\"Dot product:\", torch.dot(inputs[0], query))  # x^1 . x^2"
   ]
  },
  {
   "cell_type": "code",
   "execution_count": null,
   "id": "e001a707",
   "metadata": {},
   "outputs": [
    {
     "name": "stdout",
     "output_type": "stream",
     "text": [
      "Attention weights: tensor([0.1455, 0.2278, 0.2249, 0.1285, 0.1077, 0.1656])\n"
     ]
    },
    {
     "data": {
      "text/plain": [
       "tensor(1.0000)"
      ]
     },
     "execution_count": 16,
     "metadata": {},
     "output_type": "execute_result"
    }
   ],
   "source": [
    "attention_weights_2 = attention_scores / attention_scores.sum()\n",
    "\n",
    "print(\"Attention weights:\", attention_weights_2)\n",
    "attention_weights_2.sum()  # should be 1.0"
   ]
  },
  {
   "cell_type": "code",
   "execution_count": 17,
   "id": "2288e335",
   "metadata": {},
   "outputs": [
    {
     "name": "stdout",
     "output_type": "stream",
     "text": [
      "Attention weights (softmax): tensor([0.1385, 0.2379, 0.2333, 0.1240, 0.1082, 0.1581])\n"
     ]
    },
    {
     "data": {
      "text/plain": [
       "tensor(1.)"
      ]
     },
     "execution_count": 17,
     "metadata": {},
     "output_type": "execute_result"
    }
   ],
   "source": [
    "def softmax(x):\n",
    "    exp_x = torch.exp(x)\n",
    "    return exp_x / exp_x.sum()\n",
    "\n",
    "attention_weights_2 = softmax(attention_scores)\n",
    "print(\"Attention weights (softmax):\", attention_weights_2)\n",
    "attention_weights_2.sum()  # should be 1.0"
   ]
  },
  {
   "cell_type": "code",
   "execution_count": 19,
   "id": "31cef681",
   "metadata": {},
   "outputs": [
    {
     "name": "stdout",
     "output_type": "stream",
     "text": [
      "Attention weights: tensor([0.1385, 0.2379, 0.2333, 0.1240, 0.1082, 0.1581])\n",
      "Sum of attention weights: tensor(1.)\n"
     ]
    }
   ],
   "source": [
    "attention_weights_2 = torch.softmax(attention_scores, dim=0)\n",
    "\n",
    "\n",
    "print(\"Attention weights:\", attention_weights_2)\n",
    "print(\"Sum of attention weights:\", attention_weights_2.sum())  # should be 1.0"
   ]
  },
  {
   "cell_type": "code",
   "execution_count": 20,
   "id": "cf48626b",
   "metadata": {},
   "outputs": [
    {
     "data": {
      "text/plain": [
       "tensor([[0.4300, 0.1500, 0.8900],\n",
       "        [0.5500, 0.8700, 0.6600],\n",
       "        [0.5700, 0.8500, 0.6400],\n",
       "        [0.2200, 0.5800, 0.3300],\n",
       "        [0.7700, 0.2500, 0.1000],\n",
       "        [0.0500, 0.8000, 0.5500]])"
      ]
     },
     "execution_count": 20,
     "metadata": {},
     "output_type": "execute_result"
    }
   ],
   "source": [
    "inputs"
   ]
  },
  {
   "cell_type": "code",
   "execution_count": 25,
   "id": "dd8aa60a",
   "metadata": {},
   "outputs": [
    {
     "data": {
      "text/plain": [
       "torch.Size([3])"
      ]
     },
     "execution_count": 25,
     "metadata": {},
     "output_type": "execute_result"
    }
   ],
   "source": [
    "query.shape"
   ]
  },
  {
   "cell_type": "code",
   "execution_count": 27,
   "id": "e3afb65e",
   "metadata": {},
   "outputs": [
    {
     "name": "stdout",
     "output_type": "stream",
     "text": [
      "Context vector: tensor([0.4419, 0.6515, 0.5683])\n",
      "Context vector shape: torch.Size([3])\n"
     ]
    }
   ],
   "source": [
    "query = inputs[1]  # journey (x^2)\n",
    "\n",
    "context_vecs_2 = torch.zeros_like(query)  # (embedding_dim,) = (3,)\n",
    "for i, x_vec in enumerate(inputs):\n",
    "    context_vecs_2 += attention_weights_2[i] * x_vec  # a^(i) * x^(i)\n",
    "\n",
    "print(\"Context vector:\", context_vecs_2)\n",
    "print(\"Context vector shape:\", context_vecs_2.shape)  # (embedding_dim,)"
   ]
  },
  {
   "cell_type": "code",
   "execution_count": 28,
   "id": "a6fba721",
   "metadata": {},
   "outputs": [
    {
     "data": {
      "text/plain": [
       "tensor([[0.4300, 0.1500, 0.8900],\n",
       "        [0.5500, 0.8700, 0.6600],\n",
       "        [0.5700, 0.8500, 0.6400],\n",
       "        [0.2200, 0.5800, 0.3300],\n",
       "        [0.7700, 0.2500, 0.1000],\n",
       "        [0.0500, 0.8000, 0.5500]])"
      ]
     },
     "execution_count": 28,
     "metadata": {},
     "output_type": "execute_result"
    }
   ],
   "source": [
    "inputs"
   ]
  },
  {
   "cell_type": "code",
   "execution_count": 29,
   "id": "80b383da",
   "metadata": {},
   "outputs": [
    {
     "name": "stdout",
     "output_type": "stream",
     "text": [
      "Attention scores (all): tensor([[0.9995, 0.9544, 0.9422, 0.4753, 0.4576, 0.6310],\n",
      "        [0.9544, 1.4950, 1.4754, 0.8434, 0.7070, 1.0865],\n",
      "        [0.9422, 1.4754, 1.4570, 0.8296, 0.7154, 1.0605],\n",
      "        [0.4753, 0.8434, 0.8296, 0.4937, 0.3474, 0.6565],\n",
      "        [0.4576, 0.7070, 0.7154, 0.3474, 0.6654, 0.2935],\n",
      "        [0.6310, 1.0865, 1.0605, 0.6565, 0.2935, 0.9450]])\n"
     ]
    },
    {
     "data": {
      "text/plain": [
       "torch.Size([6, 6])"
      ]
     },
     "execution_count": 29,
     "metadata": {},
     "output_type": "execute_result"
    }
   ],
   "source": [
    "attention_scores_all = torch.empty(6, 6)  # (num_tokens, num_tokens) = (6, 6)\n",
    "\n",
    "for i, x_i in enumerate(inputs):\n",
    "    for j, x_j in enumerate(inputs):\n",
    "        attention_scores_all[i, j] = torch.dot(x_i, x_j)  # x^(i) . x^(j)\n",
    "        \n",
    "print(\"Attention scores (all):\", attention_scores_all)\n",
    "attention_scores_all.shape\n",
    "    "
   ]
  },
  {
   "cell_type": "code",
   "execution_count": 30,
   "id": "44dedc7c",
   "metadata": {},
   "outputs": [
    {
     "data": {
      "text/plain": [
       "tensor([[0.9995, 0.9544, 0.9422, 0.4753, 0.4576, 0.6310],\n",
       "        [0.9544, 1.4950, 1.4754, 0.8434, 0.7070, 1.0865],\n",
       "        [0.9422, 1.4754, 1.4570, 0.8296, 0.7154, 1.0605],\n",
       "        [0.4753, 0.8434, 0.8296, 0.4937, 0.3474, 0.6565],\n",
       "        [0.4576, 0.7070, 0.7154, 0.3474, 0.6654, 0.2935],\n",
       "        [0.6310, 1.0865, 1.0605, 0.6565, 0.2935, 0.9450]])"
      ]
     },
     "execution_count": 30,
     "metadata": {},
     "output_type": "execute_result"
    }
   ],
   "source": [
    "# Can be achieved with matrix multiplication as well\n",
    "aattention_scores_all_matmul = inputs @ inputs.T\n",
    "aattention_scores_all_matmul"
   ]
  },
  {
   "cell_type": "code",
   "execution_count": 31,
   "id": "42af3373",
   "metadata": {},
   "outputs": [
    {
     "data": {
      "text/plain": [
       "tensor([[0.9995, 0.9544, 0.9422, 0.4753, 0.4576, 0.6310],\n",
       "        [0.9544, 1.4950, 1.4754, 0.8434, 0.7070, 1.0865],\n",
       "        [0.9422, 1.4754, 1.4570, 0.8296, 0.7154, 1.0605],\n",
       "        [0.4753, 0.8434, 0.8296, 0.4937, 0.3474, 0.6565],\n",
       "        [0.4576, 0.7070, 0.7154, 0.3474, 0.6654, 0.2935],\n",
       "        [0.6310, 1.0865, 1.0605, 0.6565, 0.2935, 0.9450]])"
      ]
     },
     "execution_count": 31,
     "metadata": {},
     "output_type": "execute_result"
    }
   ],
   "source": [
    "attention_scores_all = torch.matmul(inputs, inputs.T)  # (num_tokens, num_tokens) = (6, 6)\n",
    "attention_scores_all"
   ]
  },
  {
   "cell_type": "code",
   "execution_count": 32,
   "id": "5d8021ab",
   "metadata": {},
   "outputs": [
    {
     "name": "stdout",
     "output_type": "stream",
     "text": [
      "Attention weights (all): tensor([[0.2098, 0.2006, 0.1981, 0.1242, 0.1220, 0.1452],\n",
      "        [0.1385, 0.2379, 0.2333, 0.1240, 0.1082, 0.1581],\n",
      "        [0.1390, 0.2369, 0.2326, 0.1242, 0.1108, 0.1565],\n",
      "        [0.1435, 0.2074, 0.2046, 0.1462, 0.1263, 0.1720],\n",
      "        [0.1526, 0.1958, 0.1975, 0.1367, 0.1879, 0.1295],\n",
      "        [0.1385, 0.2184, 0.2128, 0.1420, 0.0988, 0.1896]])\n",
      "Shape torch.Size([6, 6])\n"
     ]
    }
   ],
   "source": [
    "# Normalize each row with softmax\n",
    "attention_weights_all = torch.softmax(attention_scores_all, dim=1)  # (6, 6)\n",
    "print(\"Attention weights (all):\", attention_weights_all)\n",
    "print(\"Shape\", attention_weights_all.shape)"
   ]
  },
  {
   "cell_type": "code",
   "execution_count": 34,
   "id": "2fc45641",
   "metadata": {},
   "outputs": [
    {
     "data": {
      "text/plain": [
       "tensor([1.0000, 1.0000, 1.0000, 1.0000, 1.0000, 1.0000])"
      ]
     },
     "execution_count": 34,
     "metadata": {},
     "output_type": "execute_result"
    }
   ],
   "source": [
    "attention_weights_all.sum(dim=-1)  # each row should sum to 1.0"
   ]
  },
  {
   "cell_type": "code",
   "execution_count": 35,
   "id": "643c9c00",
   "metadata": {},
   "outputs": [
    {
     "data": {
      "text/plain": [
       "tensor(1.)"
      ]
     },
     "execution_count": 35,
     "metadata": {},
     "output_type": "execute_result"
    }
   ],
   "source": [
    "attention_weights_all[-1].sum()"
   ]
  },
  {
   "cell_type": "code",
   "execution_count": 37,
   "id": "a9ee3760",
   "metadata": {},
   "outputs": [
    {
     "name": "stdout",
     "output_type": "stream",
     "text": [
      "tensor([[0.4421, 0.5931, 0.5790],\n",
      "        [0.4419, 0.6515, 0.5683],\n",
      "        [0.4431, 0.6496, 0.5671],\n",
      "        [0.4304, 0.6298, 0.5510],\n",
      "        [0.4671, 0.5910, 0.5266],\n",
      "        [0.4177, 0.6503, 0.5645]])\n"
     ]
    }
   ],
   "source": [
    "# Compute all context vectors\n",
    "context_vectors_all = torch.zeros_like(inputs)  # (num_tokens, embedding_dim) = (6, 3)\n",
    "for i in range(inputs.shape[0]):  # for each token\n",
    "    for j in range(inputs.shape[0]):  # for each token\n",
    "        context_vectors_all[i] += attention_weights_all[i, j] * inputs[j]\n",
    "        \n",
    "print(context_vectors_all)"
   ]
  },
  {
   "cell_type": "code",
   "execution_count": 38,
   "id": "325dedd0",
   "metadata": {},
   "outputs": [
    {
     "data": {
      "text/plain": [
       "tensor([[0.4421, 0.5931, 0.5790],\n",
       "        [0.4419, 0.6515, 0.5683],\n",
       "        [0.4431, 0.6496, 0.5671],\n",
       "        [0.4304, 0.6298, 0.5510],\n",
       "        [0.4671, 0.5910, 0.5266],\n",
       "        [0.4177, 0.6503, 0.5645]])"
      ]
     },
     "execution_count": 38,
     "metadata": {},
     "output_type": "execute_result"
    }
   ],
   "source": [
    "# In a much simpler way using matrix multiplication\n",
    "context_vectors_all_matmul = attention_weights_all @ inputs\n",
    "context_vectors_all_matmul"
   ]
  },
  {
   "cell_type": "code",
   "execution_count": 41,
   "id": "9d5adc05",
   "metadata": {},
   "outputs": [
    {
     "data": {
      "text/plain": [
       "tensor([0.4419, 0.6515, 0.5683])"
      ]
     },
     "execution_count": 41,
     "metadata": {},
     "output_type": "execute_result"
    }
   ],
   "source": [
    "# Sanity check for the 2nd context vector\n",
    "context_vecs_2"
   ]
  },
  {
   "cell_type": "code",
   "execution_count": 43,
   "id": "7097e13b",
   "metadata": {},
   "outputs": [
    {
     "data": {
      "text/plain": [
       "torch.Size([6, 3])"
      ]
     },
     "execution_count": 43,
     "metadata": {},
     "output_type": "execute_result"
    }
   ],
   "source": [
    "inputs.shape"
   ]
  },
  {
   "cell_type": "code",
   "execution_count": 42,
   "id": "0ccbd2ea",
   "metadata": {},
   "outputs": [],
   "source": [
    "# Query vector\n",
    "# Key vector\n",
    "# Value vector\n",
    "\n",
    "x_2 = inputs[1]  # journey (x^2)\n",
    "input_dimension = inputs.shape[1]  # embedding_dim = 3\n",
    "output_dimension = 2 "
   ]
  },
  {
   "cell_type": "code",
   "execution_count": 48,
   "id": "b88415db",
   "metadata": {},
   "outputs": [
    {
     "data": {
      "text/plain": [
       "(tensor([0.5500, 0.8700, 0.6600]), torch.Size([3]))"
      ]
     },
     "execution_count": 48,
     "metadata": {},
     "output_type": "execute_result"
    }
   ],
   "source": [
    "x_2, x_2.shape"
   ]
  },
  {
   "cell_type": "code",
   "execution_count": 44,
   "id": "9de9b742",
   "metadata": {},
   "outputs": [],
   "source": [
    "torch.manual_seed(123)  # for reproducibility\n",
    "\n",
    "W_query = torch.nn.Parameter(torch.rand(input_dimension, output_dimension), requires_grad=False)\n",
    "W_key = torch.nn.Parameter(torch.rand(input_dimension, output_dimension), requires_grad=False)\n",
    "W_value = torch.nn.Parameter(torch.rand(input_dimension, output_dimension), requires_grad=False)"
   ]
  },
  {
   "cell_type": "code",
   "execution_count": 46,
   "id": "a5f2fbda",
   "metadata": {},
   "outputs": [
    {
     "data": {
      "text/plain": [
       "(torch.Size([3, 2]), torch.Size([3, 2]), torch.Size([3, 2]))"
      ]
     },
     "execution_count": 46,
     "metadata": {},
     "output_type": "execute_result"
    }
   ],
   "source": [
    "W_query.shape, W_key.shape, W_value.shape"
   ]
  },
  {
   "cell_type": "code",
   "execution_count": 49,
   "id": "6da879f0",
   "metadata": {},
   "outputs": [],
   "source": [
    "# Now compute the query, key, and value vectors for x^2\n",
    "query_2 = x_2 @ W_query  # (output_dimension,) = (2,)\n",
    "key_2 = x_2 @ W_key      # (output_dimension,) = (2,)\n",
    "value_2 = x_2 @ W_value  # (output_dimension,) = (2,)"
   ]
  },
  {
   "cell_type": "code",
   "execution_count": 51,
   "id": "4a97e7a2",
   "metadata": {},
   "outputs": [
    {
     "data": {
      "text/plain": [
       "(tensor([0.4306, 1.4551]), tensor([0.4433, 1.1419]), tensor([0.3951, 1.0037]))"
      ]
     },
     "execution_count": 51,
     "metadata": {},
     "output_type": "execute_result"
    }
   ],
   "source": [
    "query_2, key_2, value_2"
   ]
  },
  {
   "cell_type": "code",
   "execution_count": 52,
   "id": "9261f6cc",
   "metadata": {},
   "outputs": [
    {
     "data": {
      "text/plain": [
       "torch.Size([2])"
      ]
     },
     "execution_count": 52,
     "metadata": {},
     "output_type": "execute_result"
    }
   ],
   "source": [
    "query_2.shape"
   ]
  },
  {
   "cell_type": "code",
   "execution_count": 53,
   "id": "9083c69e",
   "metadata": {},
   "outputs": [
    {
     "data": {
      "text/plain": [
       "torch.Size([6, 3])"
      ]
     },
     "execution_count": 53,
     "metadata": {},
     "output_type": "execute_result"
    }
   ],
   "source": [
    "inputs.shape"
   ]
  },
  {
   "cell_type": "code",
   "execution_count": 54,
   "id": "ecb89b8d",
   "metadata": {},
   "outputs": [
    {
     "data": {
      "text/plain": [
       "(tensor([[0.3669, 0.7646],\n",
       "         [0.4433, 1.1419],\n",
       "         [0.4361, 1.1156],\n",
       "         [0.2408, 0.6706],\n",
       "         [0.1827, 0.3292],\n",
       "         [0.3275, 0.9642]]),\n",
       " tensor([[0.1855, 0.8812],\n",
       "         [0.3951, 1.0037],\n",
       "         [0.3879, 0.9831],\n",
       "         [0.2393, 0.5493],\n",
       "         [0.1492, 0.3346],\n",
       "         [0.3221, 0.7863]]))"
      ]
     },
     "execution_count": 54,
     "metadata": {},
     "output_type": "execute_result"
    }
   ],
   "source": [
    "# We can obtain all keys and values via matrix multiplication\n",
    "keys = inputs @ W_key      # (num_tokens, output_dimension) = (6, 2)\n",
    "values = inputs @ W_value  # (num_tokens, output_dimension) = (6, 2)\n",
    "\n",
    "keys, values"
   ]
  },
  {
   "cell_type": "code",
   "execution_count": 55,
   "id": "4b9bfcc2",
   "metadata": {},
   "outputs": [
    {
     "data": {
      "text/plain": [
       "(torch.Size([6, 2]), torch.Size([6, 2]))"
      ]
     },
     "execution_count": 55,
     "metadata": {},
     "output_type": "execute_result"
    }
   ],
   "source": [
    "keys.shape, values.shape"
   ]
  },
  {
   "cell_type": "code",
   "execution_count": 56,
   "id": "85d1641f",
   "metadata": {},
   "outputs": [
    {
     "name": "stdout",
     "output_type": "stream",
     "text": [
      "Attention score w_22: tensor(1.8524)\n"
     ]
    }
   ],
   "source": [
    "# compute the attention score w22\n",
    "\n",
    "attention_score_22 = torch.dot(query_2, keys[1])  # w_22 = q_2 . k_2\n",
    "print(\"Attention score w_22:\", attention_score_22)"
   ]
  },
  {
   "cell_type": "code",
   "execution_count": 57,
   "id": "8cd2b2fa",
   "metadata": {},
   "outputs": [
    {
     "data": {
      "text/plain": [
       "tensor([1.2705, 1.8524, 1.8111, 1.0795, 0.5577, 1.5440])"
      ]
     },
     "execution_count": 57,
     "metadata": {},
     "output_type": "execute_result"
    }
   ],
   "source": [
    "# Generalizing to compute all\n",
    "\n",
    "attention_scores_22 = torch.matmul(keys, query_2)  # (num_tokens,) = (6,)\n",
    "attention_scores_22"
   ]
  },
  {
   "cell_type": "code",
   "execution_count": 60,
   "id": "870fefeb",
   "metadata": {},
   "outputs": [
    {
     "data": {
      "text/plain": [
       "(2, 2)"
      ]
     },
     "execution_count": 60,
     "metadata": {},
     "output_type": "execute_result"
    }
   ],
   "source": [
    "query_2.shape[0], keys.shape[-1]"
   ]
  },
  {
   "cell_type": "code",
   "execution_count": 61,
   "id": "7607a332",
   "metadata": {},
   "outputs": [
    {
     "name": "stdout",
     "output_type": "stream",
     "text": [
      "Attention weights: tensor([0.1500, 0.2264, 0.2199, 0.1311, 0.0906, 0.1820])\n"
     ]
    }
   ],
   "source": [
    "# compute the attention weights\n",
    "\n",
    "d_k = query_2.shape[0]  # output_dimension\n",
    "attention_weights_22 = torch.softmax(attention_scores_22 / d_k**0.5, dim=-1)  # (num_tokens,) = (6,)\n",
    "print(\"Attention weights:\", attention_weights_22)"
   ]
  },
  {
   "cell_type": "code",
   "execution_count": 62,
   "id": "f69a7e72",
   "metadata": {},
   "outputs": [
    {
     "data": {
      "text/plain": [
       "torch.Size([6])"
      ]
     },
     "execution_count": 62,
     "metadata": {},
     "output_type": "execute_result"
    }
   ],
   "source": [
    "attention_weights_22.shape"
   ]
  },
  {
   "cell_type": "code",
   "execution_count": 63,
   "id": "65b0bcf9",
   "metadata": {},
   "outputs": [
    {
     "name": "stdout",
     "output_type": "stream",
     "text": [
      "tensor([0.3069, 0.8188])\n"
     ]
    }
   ],
   "source": [
    "# compute the context vector\n",
    "context_vecs_2 = attention_weights_2 @ values\n",
    "print(context_vecs_2)"
   ]
  },
  {
   "cell_type": "code",
   "execution_count": 65,
   "id": "0da32890",
   "metadata": {},
   "outputs": [
    {
     "name": "stdout",
     "output_type": "stream",
     "text": [
      "tensor([[0.2996, 0.8053],\n",
      "        [0.3061, 0.8210],\n",
      "        [0.3058, 0.8203],\n",
      "        [0.2948, 0.7939],\n",
      "        [0.2927, 0.7891],\n",
      "        [0.2990, 0.8040]], grad_fn=<MmBackward0>)\n"
     ]
    }
   ],
   "source": [
    "import torch.nn as nn\n",
    "\n",
    "class SelfAttention_v1(nn.Module):\n",
    "    \n",
    "    def __init__(self, input_dimension, output_dimension):\n",
    "        super().__init__()\n",
    "        self.output_dimension = output_dimension\n",
    "        \n",
    "        self.weight_query = nn.Parameter(torch.rand(input_dimension, output_dimension))\n",
    "        self.weight_key   = nn.Parameter(torch.rand(input_dimension, output_dimension))\n",
    "        self.weight_value = nn.Parameter(torch.rand(input_dimension, output_dimension))\n",
    "        \n",
    "    \n",
    "    def forward(self, x: torch.Tensor):\n",
    "        keys = x @ self.weight_key\n",
    "        queries = x @ self.weight_query\n",
    "        values = x @ self.weight_value\n",
    "        \n",
    "        attention_scores = queries @ keys.T\n",
    "        attention_weights = torch.softmax(attention_scores / keys.shape[-1]**0.5, dim=-1)\n",
    "        context_vectors = attention_weights @ values\n",
    "        return context_vectors\n",
    "    \n",
    "\n",
    "torch.manual_seed(123)\n",
    "sa_v1 = SelfAttention_v1(input_dimension, output_dimension)\n",
    "print(sa_v1(inputs))"
   ]
  },
  {
   "cell_type": "code",
   "execution_count": 66,
   "id": "f6a9d1c1",
   "metadata": {},
   "outputs": [
    {
     "name": "stdout",
     "output_type": "stream",
     "text": [
      "tensor([[-0.0739,  0.0713],\n",
      "        [-0.0748,  0.0703],\n",
      "        [-0.0749,  0.0702],\n",
      "        [-0.0760,  0.0685],\n",
      "        [-0.0763,  0.0679],\n",
      "        [-0.0754,  0.0693]], grad_fn=<MmBackward0>)\n"
     ]
    }
   ],
   "source": [
    "# More efficient implementation with nn.Linear\n",
    "import torch.nn as nn\n",
    "\n",
    "class SelfAttention_v2(nn.Module):\n",
    "    def __init__(self, input_dimension, output_dimension, qkv_bias=False):\n",
    "        super().__init__()\n",
    "        self.output_dimension = output_dimension\n",
    "        \n",
    "        self.weight_query = nn.Linear(input_dimension, output_dimension, bias=qkv_bias)\n",
    "        self.weight_key   = nn.Linear(input_dimension, output_dimension, bias=qkv_bias)\n",
    "        self.weight_value = nn.Linear(input_dimension, output_dimension, bias=qkv_bias)\n",
    "        \n",
    "    def forward(self, x: torch.Tensor):\n",
    "        queries = self.weight_query(x)\n",
    "        keys = self.weight_key(x)\n",
    "        values = self.weight_value(x)\n",
    "        \n",
    "        attention_scores = queries @ keys.T\n",
    "        attention_weights = torch.softmax(attention_scores / keys.shape[-1]**0.5, dim=-1)\n",
    "        context_vector = attention_weights @ values\n",
    "        return context_vector\n",
    "    \n",
    "\n",
    "torch.manual_seed(789)\n",
    "sa_v2 = SelfAttention_v2(input_dimension, output_dimension)\n",
    "print(sa_v2(inputs))"
   ]
  },
  {
   "cell_type": "code",
   "execution_count": 67,
   "id": "233276bf",
   "metadata": {},
   "outputs": [
    {
     "data": {
      "text/plain": [
       "<generator object Module.named_parameters at 0x14bd1ac40>"
      ]
     },
     "execution_count": 67,
     "metadata": {},
     "output_type": "execute_result"
    }
   ],
   "source": [
    "sa_v2.named_parameters()"
   ]
  },
  {
   "cell_type": "code",
   "execution_count": 68,
   "id": "f88cbec2",
   "metadata": {},
   "outputs": [
    {
     "name": "stdout",
     "output_type": "stream",
     "text": [
      "tensor([[0.1921, 0.1646, 0.1652, 0.1550, 0.1721, 0.1510],\n",
      "        [0.2041, 0.1659, 0.1662, 0.1496, 0.1665, 0.1477],\n",
      "        [0.2036, 0.1659, 0.1662, 0.1498, 0.1664, 0.1480],\n",
      "        [0.1869, 0.1667, 0.1668, 0.1571, 0.1661, 0.1564],\n",
      "        [0.1830, 0.1669, 0.1670, 0.1588, 0.1658, 0.1585],\n",
      "        [0.1935, 0.1663, 0.1666, 0.1542, 0.1666, 0.1529]],\n",
      "       grad_fn=<SoftmaxBackward0>)\n"
     ]
    }
   ],
   "source": [
    "queries = sa_v2.weight_query(inputs)\n",
    "keys = sa_v2.weight_key(inputs)\n",
    "# values = sa_v2.weight_value(inputs)\n",
    "\n",
    "attn_scores = queries @ keys.T\n",
    "attn_weights = torch.softmax(attn_scores / keys.shape[-1]**0.5, dim=-1)\n",
    "print(attn_weights)"
   ]
  },
  {
   "cell_type": "code",
   "execution_count": 69,
   "id": "74b471e0",
   "metadata": {},
   "outputs": [
    {
     "name": "stdout",
     "output_type": "stream",
     "text": [
      "tensor([[1., 0., 0., 0., 0., 0.],\n",
      "        [1., 1., 0., 0., 0., 0.],\n",
      "        [1., 1., 1., 0., 0., 0.],\n",
      "        [1., 1., 1., 1., 0., 0.],\n",
      "        [1., 1., 1., 1., 1., 0.],\n",
      "        [1., 1., 1., 1., 1., 1.]])\n"
     ]
    }
   ],
   "source": [
    "context_length = attn_scores.shape[0]\n",
    "mask_simple = torch.tril(torch.ones(context_length, context_length))\n",
    "print(mask_simple)"
   ]
  },
  {
   "cell_type": "code",
   "execution_count": 70,
   "id": "cf97a46b",
   "metadata": {},
   "outputs": [
    {
     "name": "stdout",
     "output_type": "stream",
     "text": [
      "tensor([[0.1921, 0.0000, 0.0000, 0.0000, 0.0000, 0.0000],\n",
      "        [0.2041, 0.1659, 0.0000, 0.0000, 0.0000, 0.0000],\n",
      "        [0.2036, 0.1659, 0.1662, 0.0000, 0.0000, 0.0000],\n",
      "        [0.1869, 0.1667, 0.1668, 0.1571, 0.0000, 0.0000],\n",
      "        [0.1830, 0.1669, 0.1670, 0.1588, 0.1658, 0.0000],\n",
      "        [0.1935, 0.1663, 0.1666, 0.1542, 0.1666, 0.1529]],\n",
      "       grad_fn=<MulBackward0>)\n"
     ]
    }
   ],
   "source": [
    "masked_simple = attn_weights*mask_simple\n",
    "print(masked_simple)"
   ]
  },
  {
   "cell_type": "code",
   "execution_count": 71,
   "id": "712cab91",
   "metadata": {},
   "outputs": [
    {
     "name": "stdout",
     "output_type": "stream",
     "text": [
      "tensor([[1.0000, 0.0000, 0.0000, 0.0000, 0.0000, 0.0000],\n",
      "        [0.5517, 0.4483, 0.0000, 0.0000, 0.0000, 0.0000],\n",
      "        [0.3800, 0.3097, 0.3103, 0.0000, 0.0000, 0.0000],\n",
      "        [0.2758, 0.2460, 0.2462, 0.2319, 0.0000, 0.0000],\n",
      "        [0.2175, 0.1983, 0.1984, 0.1888, 0.1971, 0.0000],\n",
      "        [0.1935, 0.1663, 0.1666, 0.1542, 0.1666, 0.1529]],\n",
      "       grad_fn=<DivBackward0>)\n"
     ]
    }
   ],
   "source": [
    "row_sums = masked_simple.sum(dim=-1, keepdims=True)\n",
    "masked_simple_norm = masked_simple / row_sums\n",
    "print(masked_simple_norm)"
   ]
  },
  {
   "cell_type": "code",
   "execution_count": null,
   "id": "23f85e82",
   "metadata": {},
   "outputs": [],
   "source": []
  },
  {
   "cell_type": "code",
   "execution_count": null,
   "id": "9c9ef2bf",
   "metadata": {},
   "outputs": [],
   "source": []
  },
  {
   "cell_type": "code",
   "execution_count": null,
   "id": "c82c24e4",
   "metadata": {},
   "outputs": [],
   "source": []
  },
  {
   "cell_type": "code",
   "execution_count": null,
   "id": "82ab38e8",
   "metadata": {},
   "outputs": [],
   "source": []
  },
  {
   "cell_type": "code",
   "execution_count": null,
   "id": "b8f28417",
   "metadata": {},
   "outputs": [],
   "source": []
  },
  {
   "cell_type": "code",
   "execution_count": null,
   "id": "c3a241b8",
   "metadata": {},
   "outputs": [],
   "source": []
  },
  {
   "cell_type": "code",
   "execution_count": null,
   "id": "fc027163",
   "metadata": {},
   "outputs": [],
   "source": []
  },
  {
   "cell_type": "code",
   "execution_count": null,
   "id": "1313198b",
   "metadata": {},
   "outputs": [],
   "source": []
  },
  {
   "cell_type": "code",
   "execution_count": null,
   "id": "a317e692",
   "metadata": {},
   "outputs": [],
   "source": []
  }
 ],
 "metadata": {
  "kernelspec": {
   "display_name": "venv (3.11.13)",
   "language": "python",
   "name": "python3"
  },
  "language_info": {
   "codemirror_mode": {
    "name": "ipython",
    "version": 3
   },
   "file_extension": ".py",
   "mimetype": "text/x-python",
   "name": "python",
   "nbconvert_exporter": "python",
   "pygments_lexer": "ipython3",
   "version": "3.11.13"
  }
 },
 "nbformat": 4,
 "nbformat_minor": 5
}
