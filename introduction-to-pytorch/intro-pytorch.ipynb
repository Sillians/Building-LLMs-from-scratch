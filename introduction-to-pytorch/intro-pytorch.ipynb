{
 "cells": [
  {
   "cell_type": "markdown",
   "id": "51993339",
   "metadata": {},
   "source": [
    "# Introduction to PyTorch"
   ]
  },
  {
   "cell_type": "markdown",
   "id": "99082b0d",
   "metadata": {},
   "source": [
    "## The three core components of PyTorch\n",
    "\n",
    "Firstly, PyTorch is a tensor library that extends the concept of array-oriented programming\n",
    "library NumPy with the additional feature of accelerated computation on GPUs, thus\n",
    "providing a seamless switch between CPUs and GPUs.\n",
    "\n",
    "Secondly, PyTorch is an automatic differentiation engine, also known as autograd, which\n",
    "enables the automatic computation of gradients for tensor operations, simplifying\n",
    "backpropagation and model optimization.\n",
    "\n",
    "Finally, PyTorch is a deep learning library, meaning that it offers modular, flexible, and\n",
    "efficient building blocks (including pre-trained models, loss functions, and optimizers) for\n",
    "designing and training a wide range of deep learning models, catering to both researchers\n",
    "and developers."
   ]
  },
  {
   "cell_type": "markdown",
   "id": "3bfde479",
   "metadata": {},
   "source": [
    "AI is fundamentally about creating computer systems capable of performing tasks that\n",
    "usually require human intelligence. These tasks include understanding natural language,\n",
    "recognizing patterns, and making decisions. (Despite significant progress, AI is still far from\n",
    "achieving this level of general intelligence.)\n",
    "\n",
    "Machine learning represents a subfield of AI that focuses on developing and improving learning algorithms. The key idea behind machine learning is to enable computers to learn from data and make predictions or decisions without being explicitly programmed to perform the task. This involves developing algorithms that can identify patterns and learn from historical data and improve their performance over time with more data and feedback.\n",
    "\n",
    "Machine learning is also behind technologies like recommendation systems used by online retailers and streaming services, email spam filtering, voice recognition in virtual assistants, and even self-driving cars. The introduction and advancement of machine learning have significantly enhanced AI's capabilities, enabling it to move beyond strict rule-based systems and adapt to new inputs or changing environments.\n",
    "\n",
    "Deep learning is a subcategory of machine learning that focuses on the training and\n",
    "application of deep neural networks. These deep neural networks were originally inspired by\n",
    "how the human brain works, particularly the interconnection between many neurons. The\n",
    "\"deep\" in deep learning refers to the multiple hidden layers of artificial neurons or nodes\n",
    "that allow them to model complex, nonlinear relationships in the data.\n",
    "\n",
    "Unlike traditional machine learning techniques that excel at simple pattern recognition,\n",
    "deep learning is particularly good at handling unstructured data like images, audio, or text,\n",
    "so deep learning is particularly well suited for LLMs.\n",
    "\n",
    "Using a learning algorithm, a model is trained on a training dataset consisting of examples\n",
    "and corresponding labels. In the case of an email spam classifier, for example, the training\n",
    "dataset consists of emails and their spam and not-spam labels that a human identified.\n",
    "Then, the trained model can be used on new observations (new emails) to predict their\n",
    "unknown label (spam or not spam)\n",
    "\n",
    "Of course, we also want to add a model evaluation between the training and inference\n",
    "stages to ensure that the model satisfies our performance criteria before using it in a real-\n",
    "world application.\n"
   ]
  },
  {
   "cell_type": "code",
   "execution_count": 2,
   "id": "bb2c3f31",
   "metadata": {},
   "outputs": [],
   "source": [
    "import torch\n",
    "import numpy as np"
   ]
  },
  {
   "cell_type": "code",
   "execution_count": 3,
   "id": "b14c0b23",
   "metadata": {},
   "outputs": [
    {
     "data": {
      "text/plain": [
       "'2.0.1'"
      ]
     },
     "execution_count": 3,
     "metadata": {},
     "output_type": "execute_result"
    }
   ],
   "source": [
    "torch.__version__"
   ]
  },
  {
   "cell_type": "code",
   "execution_count": 4,
   "id": "cd03841a",
   "metadata": {},
   "outputs": [
    {
     "name": "stdout",
     "output_type": "stream",
     "text": [
      "True\n"
     ]
    }
   ],
   "source": [
    "print(torch.backends.mps.is_available())"
   ]
  },
  {
   "cell_type": "markdown",
   "id": "ce464367",
   "metadata": {},
   "source": [
    "## Understanding tensors\n",
    "\n",
    "Tensors represent a mathematical concept that generalizes vectors and matrices to potentially higher dimensions. In other words, tensors are mathematical objects that can be characterized by their order (or rank), which provides the number of dimensions. For example, a scalar (just a number) is a tensor of rank 0, a vector is a tensor of rank 1, and a matrix is a tensor of rank 2.\n",
    "\n",
    "From a computational perspective, tensors serve as data containers. For instance, they hold multi-dimensional data, where each dimension represents a different feature. Tensor libraries, such as PyTorch, can create, manipulate, and compute with these multi-dimensional arrays efficiently. In this context, a tensor library functions as an array library.\n",
    "\n",
    "\n",
    "PyTorch tensors are similar to NumPy arrays but have several additional features important for deep learning. For example, PyTorch adds an automatic differentiation engine, simplifying computing gradients. PyTorch tensors also support GPU computations to speed up deep neural network training."
   ]
  },
  {
   "cell_type": "markdown",
   "id": "4fb1a146",
   "metadata": {},
   "source": [
    "## Scalars, vectors, matrices, and tensors\n",
    "\n",
    "As mentioned earlier, PyTorch tensors are data containers for array-like structures. A scalar\n",
    "is a `0-dimensional` tensor (for instance, just a number), a vector is a `1-dimensional` tensor,\n",
    "and a matrix is a `2-dimensional` tensor. There is no specific term for higher-dimensional\n",
    "tensors, so we typically refer to a `3-dimensional` tensor as just a 3D tensor, and so forth.\n",
    "\n",
    "We can create objects of PyTorch's Tensor class using the torch.tensor function as\n",
    "follows:"
   ]
  },
  {
   "cell_type": "code",
   "execution_count": 5,
   "id": "fb2ae749",
   "metadata": {},
   "outputs": [
    {
     "data": {
      "text/plain": [
       "'1.25.0'"
      ]
     },
     "execution_count": 5,
     "metadata": {},
     "output_type": "execute_result"
    }
   ],
   "source": [
    "np.__version__"
   ]
  },
  {
   "cell_type": "code",
   "execution_count": 6,
   "id": "c63306f4",
   "metadata": {},
   "outputs": [
    {
     "name": "stdout",
     "output_type": "stream",
     "text": [
      "tensor(1) 0\n"
     ]
    }
   ],
   "source": [
    "import torch\n",
    "\n",
    "tensor0d = torch.tensor(1)\n",
    "print(tensor0d, tensor0d.dim())"
   ]
  },
  {
   "cell_type": "code",
   "execution_count": 7,
   "id": "3626b5bc",
   "metadata": {},
   "outputs": [
    {
     "name": "stdout",
     "output_type": "stream",
     "text": [
      "tensor([1, 2, 3]) 1\n"
     ]
    }
   ],
   "source": [
    "tensor1d = torch.tensor([1, 2, 3])\n",
    "print(tensor1d, tensor1d.dim())"
   ]
  },
  {
   "cell_type": "code",
   "execution_count": 8,
   "id": "3f46fc85",
   "metadata": {},
   "outputs": [
    {
     "name": "stdout",
     "output_type": "stream",
     "text": [
      "tensor([[3, 4],\n",
      "        [6, 7]]) 2\n"
     ]
    }
   ],
   "source": [
    "tensor2d = torch.tensor([[3, 4], [6, 7]])\n",
    "print(tensor2d, tensor2d.dim())"
   ]
  },
  {
   "cell_type": "code",
   "execution_count": 9,
   "id": "eb59b42d",
   "metadata": {},
   "outputs": [
    {
     "name": "stdout",
     "output_type": "stream",
     "text": [
      "tensor([[[2, 6],\n",
      "         [3, 7],\n",
      "         [4, 8]]]) 3\n"
     ]
    }
   ],
   "source": [
    "tensor3d = torch.tensor([[[2, 6], [3, 7], [4, 8]]])\n",
    "print(tensor3d, tensor3d.dim())"
   ]
  },
  {
   "cell_type": "markdown",
   "id": "b3e8a7d9",
   "metadata": {},
   "source": [
    "## Tensor data types\n",
    "\n",
    "PyTorch adopts the default 64-bit integer data type from Python. We can access the data type of a\n",
    "tensor via the `.dtype` attribute of a tensor:"
   ]
  },
  {
   "cell_type": "code",
   "execution_count": 10,
   "id": "48461bfc",
   "metadata": {},
   "outputs": [
    {
     "name": "stdout",
     "output_type": "stream",
     "text": [
      "torch.int64\n"
     ]
    }
   ],
   "source": [
    "print(tensor1d.dtype)"
   ]
  },
  {
   "cell_type": "markdown",
   "id": "43bfddd8",
   "metadata": {},
   "source": [
    "If we create tensors from Python floats, PyTorch creates tensors with a 32-bit precision by\n",
    "default, as we can see below:"
   ]
  },
  {
   "cell_type": "code",
   "execution_count": 11,
   "id": "e41693f9",
   "metadata": {},
   "outputs": [
    {
     "name": "stdout",
     "output_type": "stream",
     "text": [
      "torch.float32\n"
     ]
    }
   ],
   "source": [
    "floatvec = torch.tensor([1.0, 2.3, 4.6])\n",
    "print(floatvec.dtype)"
   ]
  },
  {
   "cell_type": "markdown",
   "id": "74ce77f6",
   "metadata": {},
   "source": [
    "This choice is primarily due to the balance between precision and computational efficiency.\n",
    "A 32-bit floating point number offers sufficient precision for most deep learning tasks, while\n",
    "consuming less memory and computational resources than a 64-bit floating point number.\n",
    "Moreover, GPU architectures are optimized for 32-bit computations, and using this data\n",
    "type can significantly speed up model training and inference."
   ]
  },
  {
   "cell_type": "markdown",
   "id": "b5ea0b11",
   "metadata": {},
   "source": [
    "Moreover, it is possible to readily change the precision using a tensor's `.to` method. The following code demonstrates this by changing a `64-bit` integer tensor into a `32-bit` float tensor:"
   ]
  },
  {
   "cell_type": "code",
   "execution_count": 12,
   "id": "4c4055a8",
   "metadata": {},
   "outputs": [
    {
     "name": "stdout",
     "output_type": "stream",
     "text": [
      "tensor([1., 2., 3.]) torch.float32\n"
     ]
    }
   ],
   "source": [
    "vectofloat = tensor1d.to(torch.float32)\n",
    "print(vectofloat, vectofloat.dtype)"
   ]
  },
  {
   "cell_type": "markdown",
   "id": "ae1f0d20",
   "metadata": {},
   "source": [
    "## Common PyTorch tensor operations\n",
    "\n",
    "Some of the most essential PyTorch tensor operations."
   ]
  },
  {
   "cell_type": "code",
   "execution_count": 13,
   "id": "3721d4c0",
   "metadata": {},
   "outputs": [
    {
     "name": "stdout",
     "output_type": "stream",
     "text": [
      "tensor([[ 3,  6],\n",
      "        [ 4,  8],\n",
      "        [ 5, 10]]) torch.int64\n"
     ]
    }
   ],
   "source": [
    "# We already introduced the torch.tensor() function to create new tensors.\n",
    "\n",
    "new_tensor = torch.tensor([[3, 6], [4, 8], [5, 10]])\n",
    "print(new_tensor, new_tensor.dtype)"
   ]
  },
  {
   "cell_type": "code",
   "execution_count": 14,
   "id": "a39c64c3",
   "metadata": {},
   "outputs": [
    {
     "data": {
      "text/plain": [
       "torch.Size([3, 2])"
      ]
     },
     "execution_count": 14,
     "metadata": {},
     "output_type": "execute_result"
    }
   ],
   "source": [
    "# In addition, the .shape attribute allows us to access the shape of a tensor:\n",
    "\n",
    "new_tensor.shape"
   ]
  },
  {
   "cell_type": "code",
   "execution_count": 15,
   "id": "b6e744f3",
   "metadata": {},
   "outputs": [
    {
     "name": "stdout",
     "output_type": "stream",
     "text": [
      "tensor([[ 3,  6,  4],\n",
      "        [ 8,  5, 10]])\n"
     ]
    }
   ],
   "source": [
    "# As you can see above, .shape returns [3, 2], which means that the tensor has 3 rows and 2 columns. \n",
    "# To reshape the tensor into a 2 by 3 tensor, we can use the .reshape method:\n",
    "\n",
    "print(new_tensor.reshape(2, 3))"
   ]
  },
  {
   "cell_type": "code",
   "execution_count": 16,
   "id": "00791d6b",
   "metadata": {},
   "outputs": [
    {
     "name": "stdout",
     "output_type": "stream",
     "text": [
      "tensor([[ 3,  6,  4],\n",
      "        [ 8,  5, 10]])\n"
     ]
    }
   ],
   "source": [
    "# However, note that the more common command for reshaping tensors in PyTorch is .view():\n",
    "\n",
    "print(new_tensor.view(2, 3))"
   ]
  },
  {
   "cell_type": "markdown",
   "id": "3608d574",
   "metadata": {},
   "source": [
    "Similar to `.reshape` and `.view`, there are several cases where PyTorch offers multiple syntax options for executing the same computation.\n",
    "This is because PyTorch initially followed the original `Lua Torch` syntax convention but then also added syntax to make it more similar to NumPy upon popular request.\n",
    "\n",
    "Next, we can use `.T` to transpose a tensor, which means flipping it across its diagonal. Note that this is similar from reshaping a tensor as you can see based on the result below:"
   ]
  },
  {
   "cell_type": "code",
   "execution_count": 17,
   "id": "a6abf5f5",
   "metadata": {},
   "outputs": [
    {
     "name": "stdout",
     "output_type": "stream",
     "text": [
      "tensor([[ 3,  4,  5],\n",
      "        [ 6,  8, 10]])\n"
     ]
    }
   ],
   "source": [
    "print(new_tensor.T)"
   ]
  },
  {
   "cell_type": "markdown",
   "id": "6f25d59e",
   "metadata": {},
   "source": [
    "Lastly, the common way to multiply two matrices in PyTorch is the `.matmul` method:"
   ]
  },
  {
   "cell_type": "code",
   "execution_count": 18,
   "id": "3f14bd34",
   "metadata": {},
   "outputs": [
    {
     "name": "stdout",
     "output_type": "stream",
     "text": [
      "tensor([[33, 40],\n",
      "        [60, 73]])\n"
     ]
    }
   ],
   "source": [
    "print(tensor2d.matmul(tensor2d))"
   ]
  },
  {
   "cell_type": "markdown",
   "id": "a98248c9",
   "metadata": {},
   "source": [
    "However, we can also adopt the `@` operator, which accomplishes the same thing more compactly:"
   ]
  },
  {
   "cell_type": "code",
   "execution_count": 19,
   "id": "25d28a81",
   "metadata": {},
   "outputs": [
    {
     "name": "stdout",
     "output_type": "stream",
     "text": [
      "tensor([[33, 40],\n",
      "        [60, 73]])\n"
     ]
    }
   ],
   "source": [
    "print(tensor2d@tensor2d)"
   ]
  },
  {
   "cell_type": "markdown",
   "id": "475e4a1c",
   "metadata": {},
   "source": [
    "## Seeing models as computation graphs\n",
    "\n",
    "PyTorch's autograd system provides functions to compute gradients in dynamic computational graphs automatically. \n",
    "\n",
    "A computational graph (or computation graph in short) is a directed graph that allows us to express and visualize mathematical expressions. In the context of deep learning, a computation graph lays out the sequence of calculations needed to compute the output of a neural network\n",
    "\n",
    "Let's look at a concrete example to illustrate the concept of a computation graph. The following code implements the forward pass (prediction step) of a simple logistic regression classifier, which can be seen as a single-layer neural network, returning a score between `0` and `1` that is compared to the true class label `(0 or 1)` when computing the loss:"
   ]
  },
  {
   "cell_type": "code",
   "execution_count": 20,
   "id": "2aa5a3c5",
   "metadata": {},
   "outputs": [
    {
     "name": "stdout",
     "output_type": "stream",
     "text": [
      "tensor([0.9183])\n"
     ]
    }
   ],
   "source": [
    "import torch.nn.functional as F\n",
    "\n",
    "y = torch.tensor([1.0])\n",
    "x1 = torch.tensor([1.1])\n",
    "w1 = torch.tensor([2.2])\n",
    "b = torch.Tensor([0.0])\n",
    "z = x1 * w1 + b\n",
    "\n",
    "y_pred = torch.sigmoid(z)\n",
    "print(y_pred)"
   ]
  },
  {
   "cell_type": "code",
   "execution_count": 21,
   "id": "0fec74c1",
   "metadata": {},
   "outputs": [],
   "source": [
    "# Get the loss\n",
    "loss = F.binary_cross_entropy(y_pred, y)"
   ]
  },
  {
   "cell_type": "code",
   "execution_count": 22,
   "id": "52bcbdbd",
   "metadata": {},
   "outputs": [
    {
     "data": {
      "text/plain": [
       "tensor(0.0852)"
      ]
     },
     "execution_count": 22,
     "metadata": {},
     "output_type": "execute_result"
    }
   ],
   "source": [
    "loss"
   ]
  },
  {
   "cell_type": "markdown",
   "id": "feb507a8",
   "metadata": {},
   "source": [
    "![Alt text](../assests/computational-graph.png)"
   ]
  },
  {
   "cell_type": "markdown",
   "id": "2cd924e5",
   "metadata": {},
   "source": [
    "The image above illustrates A logistic regression forward pass as a computation graph. The input feature `x1` is multiplied by a model weight `w1` and passed through an activation function `σ` after adding the bias. The loss is computed by comparing the model output `a` with a given label `y`."
   ]
  },
  {
   "cell_type": "markdown",
   "id": "5799a495",
   "metadata": {},
   "source": [
    "In fact, PyTorch builds such a computation graph in the background, and we can use this to\n",
    "calculate gradients of a loss function with respect to the model parameters (here w1 and b)\n",
    "to train the model."
   ]
  },
  {
   "cell_type": "code",
   "execution_count": null,
   "id": "a658be28",
   "metadata": {},
   "outputs": [],
   "source": []
  },
  {
   "cell_type": "markdown",
   "id": "7a53b9a5",
   "metadata": {},
   "source": [
    "## Automatic differentiation made easy\n",
    "\n",
    "If we carry out computations in PyTorch, it will build such a graph internally by default if one of its terminal nodes has the `requires_grad` attribute set to True. This is useful if we want to compute `gradients`. Gradients are required when training neural networks via the popular backpropagation algorithm, which can be thought of as an implementation of the `chain rule` from calculus for neural networks."
   ]
  },
  {
   "cell_type": "markdown",
   "id": "0deef4bd",
   "metadata": {},
   "source": [
    "![Alt text](../assests/auto-diff.png)"
   ]
  },
  {
   "cell_type": "code",
   "execution_count": null,
   "id": "82b38d3e",
   "metadata": {},
   "outputs": [],
   "source": []
  },
  {
   "cell_type": "markdown",
   "id": "7d44e80b",
   "metadata": {},
   "source": [
    "# PARTIAL DERIVATIVES AND GRADIENTS\n",
    "\n",
    "`Figure A.8` shows partial derivatives, which measure the rate at which a function changes with respect to one of its variables. A gradient is a vector containing all of the partial derivatives of a multivariate function, a function with more than one variable as input.\n",
    "\n",
    "If you are not familiar or don't remember the `partial derivatives`, `gradients`, or the `chain rule` from calculus, don't worry. On a high level, all you need to know for this book is that the chain rule is a way to compute gradients of a loss function with respect to the model's parameters in a computation graph. This provides the information needed to update each parameter in a way that minimizes the loss function, which serves as a proxy for measuring the model's performance, using a method such as gradient descent.\n",
    "\n",
    "the automatic differentiation `(autograd)` engine? By tracking every operation performed on tensors, PyTorch's `autograd` engine constructs a computational graph in the background. Then, calling the `grad` function, we can compute the gradient of the loss with respect to model parameter `w1` as follows:"
   ]
  },
  {
   "cell_type": "code",
   "execution_count": 23,
   "id": "77752504",
   "metadata": {},
   "outputs": [],
   "source": [
    "import torch.nn.functional as F\n",
    "from torch.autograd import grad\n",
    "\n",
    "y = torch.tensor([1.0])\n",
    "x1 = torch.tensor([1.1])\n",
    "w1 = torch.tensor([2.2], requires_grad=True)\n",
    "b = torch.tensor([0.0], requires_grad=True)\n",
    "z = x1 * w1 + b\n",
    "\n",
    "y_pred = torch.sigmoid(z)\n",
    "loss = F.binary_cross_entropy(y_pred, y)\n",
    "\n",
    "grad_l_w1 = grad(loss, w1, retain_graph=True)\n",
    "grad_l_b = grad(loss, b, retain_graph=True)"
   ]
  },
  {
   "cell_type": "markdown",
   "id": "c11d870f",
   "metadata": {},
   "source": [
    "By default, PyTorch destroys the computation graph after calculating the gradients to free memory. However, since we are going to reuse this computation graph shortly, we set retain_graph=True so that it stays in memory."
   ]
  },
  {
   "cell_type": "code",
   "execution_count": 24,
   "id": "e89caddf",
   "metadata": {},
   "outputs": [
    {
     "name": "stdout",
     "output_type": "stream",
     "text": [
      "(tensor([-0.0817]),) (tensor([-0.0898]),)\n"
     ]
    }
   ],
   "source": [
    "print(grad_l_b, grad_l_w1)"
   ]
  },
  {
   "cell_type": "markdown",
   "id": "5a81e98c",
   "metadata": {},
   "source": [
    "Above, we have been using the grad function `\"manually,\"` which can be useful for experimentation, debugging, and demonstrating concepts. But in practice, PyTorch provides even more high-level tools to automate this process. For instance, we can call `.backward` on the loss, and PyTorch will compute the gradients of all the leaf nodes in the graph, which will be stored via the tensors' `.grad` attributes:"
   ]
  },
  {
   "cell_type": "code",
   "execution_count": 25,
   "id": "6c99e7a5",
   "metadata": {},
   "outputs": [
    {
     "name": "stdout",
     "output_type": "stream",
     "text": [
      "tensor([-0.0898])\n",
      "tensor([-0.0817])\n"
     ]
    }
   ],
   "source": [
    "loss.backward()\n",
    "print(w1.grad)\n",
    "print(b.grad)"
   ]
  },
  {
   "cell_type": "markdown",
   "id": "6b5435b0",
   "metadata": {},
   "source": [
    "## Implementing multilayer neural networks\n",
    "\n",
    "In the previous sections, we covered PyTorch's tensor and autograd components. This section focuses on PyTorch as a library for implementing `deep neural networks`. To provide a concrete example, we focus on a `multilayer perceptron`, which is a fully\n",
    "connected neural network."
   ]
  },
  {
   "cell_type": "markdown",
   "id": "121a1b3a",
   "metadata": {},
   "source": [
    "![Alt text](../assests/mlp.png)"
   ]
  },
  {
   "cell_type": "markdown",
   "id": "204b328b",
   "metadata": {},
   "source": [
    "When implementing a neural network in PyTorch, we typically subclass the `torch.nn.Module` class to define our own custom network architecture. This Module base class provides a lot of functionality, making it easier to build and train models. For instance, it allows us to encapsulate layers and operations and keep track of the model's parameters.\n",
    "\n",
    "Within this subclass, we define the network layers in the `__init__` constructor and specify how they interact in the `forward method`. The forward method describes how the input data passes through the network and comes together as a computation graph.\n",
    "\n",
    "In contrast, the `backward` method, which we typically do not need to implement ourselves, is used during training to compute `gradients` of the `loss function` with respect to the `model parameters`. \n",
    "\n",
    "The following code implements a classic `multilayer perceptron` with two hidden layers to illustrate a typical usage of the Module class:"
   ]
  },
  {
   "cell_type": "code",
   "execution_count": 26,
   "id": "a40f1916",
   "metadata": {},
   "outputs": [],
   "source": [
    "class NeuralNetwork(torch.nn.Module):\n",
    "    def __init__(self, num_inputs, num_outputs):\n",
    "        super().__init__()\n",
    "        \n",
    "        self.layers = torch.nn.Sequential(\n",
    "            \n",
    "            # 1st hidden layer\n",
    "            torch.nn.Linear(num_inputs, 30),\n",
    "            torch.nn.ReLU(),\n",
    "            \n",
    "            # 2nd hidden layer\n",
    "            torch.nn.Linear(30, 20),\n",
    "            torch.nn.ReLU(),\n",
    "            \n",
    "            # Output layer\n",
    "            torch.nn.Linear(20, num_outputs),\n",
    "            \n",
    "        )\n",
    "        \n",
    "    def forward(self, x):\n",
    "        logits = self.layers(x)\n",
    "        return logits"
   ]
  },
  {
   "cell_type": "markdown",
   "id": "682997cb",
   "metadata": {},
   "source": [
    "- It's useful to code the number of inputs and outputs as variables to reuse the same code for datasets with different numbers of features and classes.\n",
    "  \n",
    "- The Linear layer takes the number of input and output nodes as arguments.\n",
    "  \n",
    "- Nonlinear activation functions are placed between the hidden layers.\n",
    "  \n",
    "- The number of output nodes of one hidden layer has to match the number of inputs of the next layer.\n",
    "  \n",
    "- The outputs of the last layer are called logits."
   ]
  },
  {
   "cell_type": "code",
   "execution_count": 27,
   "id": "1e5055ef",
   "metadata": {},
   "outputs": [],
   "source": [
    "# instantiate a new neural network object as follows:\n",
    "model = NeuralNetwork(50, 3)"
   ]
  },
  {
   "cell_type": "markdown",
   "id": "aa150745",
   "metadata": {},
   "source": [
    "But before using this new model object, it is often useful to call print on the model to see a summary of its structure:"
   ]
  },
  {
   "cell_type": "code",
   "execution_count": 28,
   "id": "17c17476",
   "metadata": {},
   "outputs": [
    {
     "name": "stdout",
     "output_type": "stream",
     "text": [
      "NeuralNetwork(\n",
      "  (layers): Sequential(\n",
      "    (0): Linear(in_features=50, out_features=30, bias=True)\n",
      "    (1): ReLU()\n",
      "    (2): Linear(in_features=30, out_features=20, bias=True)\n",
      "    (3): ReLU()\n",
      "    (4): Linear(in_features=20, out_features=3, bias=True)\n",
      "  )\n",
      ")\n"
     ]
    }
   ],
   "source": [
    "print(model)"
   ]
  },
  {
   "cell_type": "markdown",
   "id": "e48e77c0",
   "metadata": {},
   "source": [
    "Note that we used the `Sequential` class when we implemented the `NeuralNetwork` class. Using Sequential is not required, but it can make our life easier if we have a series of layers that we want to execute in a specific order, as is the case here. This way, after instantiating `self.layers = Sequential(...)` in the `__init__` constructor, we just have to call the `self.layers` instead of calling each layer individually in the `NeuralNetwork's` forward method."
   ]
  },
  {
   "cell_type": "code",
   "execution_count": 29,
   "id": "6b3e7e67",
   "metadata": {},
   "outputs": [
    {
     "name": "stdout",
     "output_type": "stream",
     "text": [
      "Total number of trainable model parameters: 2213\n"
     ]
    }
   ],
   "source": [
    "# Next, let's check the total number of trainable parameters of this model:\n",
    "\n",
    "num_params = sum(p.numel() for p in model.parameters() if p.requires_grad)\n",
    "print(f\"Total number of trainable model parameters:\", num_params)"
   ]
  },
  {
   "cell_type": "markdown",
   "id": "a85f3b5f",
   "metadata": {},
   "source": [
    "Note that each parameter for which `requires_grad=True` counts as a trainable parameter and will be updated during training.\n",
    "\n",
    "In the case of our `neural network model` with the two hidden layers above, these trainable parameters are contained in the `torch.nn.Linear` layers. A linear layer multiplies the `inputs with a weight matrix and adds a bias vector`. This is sometimes also referred to\n",
    "as a `feedforward` or `fully connected layer`.\n",
    "\n",
    "Based on the `print(model)` call we executed above, we can see that the first Linear layer is at index position `0` in the layers attribute. We can access the corresponding weight parameter matrix as follows:"
   ]
  },
  {
   "cell_type": "code",
   "execution_count": 30,
   "id": "d6ee8823",
   "metadata": {},
   "outputs": [
    {
     "name": "stdout",
     "output_type": "stream",
     "text": [
      "Parameter containing:\n",
      "tensor([[ 0.0242, -0.1279, -0.0271,  ..., -0.0631, -0.0629, -0.1057],\n",
      "        [-0.0779, -0.1378,  0.0358,  ..., -0.0503,  0.1083,  0.0015],\n",
      "        [ 0.1010, -0.0752, -0.1025,  ...,  0.0584,  0.1044,  0.1369],\n",
      "        ...,\n",
      "        [-0.1133,  0.0278,  0.1364,  ..., -0.0332, -0.0087, -0.0196],\n",
      "        [ 0.1011,  0.0802, -0.0845,  ...,  0.0500,  0.0372, -0.1414],\n",
      "        [-0.1276, -0.1105, -0.1404,  ...,  0.0672,  0.1302, -0.0142]],\n",
      "       requires_grad=True)\n"
     ]
    }
   ],
   "source": [
    "print(model.layers[0].weight)"
   ]
  },
  {
   "cell_type": "code",
   "execution_count": 31,
   "id": "dfdf19bd",
   "metadata": {},
   "outputs": [
    {
     "name": "stdout",
     "output_type": "stream",
     "text": [
      "Parameter containing:\n",
      "tensor([[-8.2704e-02,  1.6676e-01,  2.3790e-02, -1.6425e-01, -9.1062e-03,\n",
      "         -7.9301e-02,  1.2550e-01,  9.2919e-02, -1.6414e-01, -1.1609e-01,\n",
      "         -1.2934e-01,  1.0597e-01,  1.0918e-01,  1.1679e-01, -1.1571e-01,\n",
      "          1.6734e-01, -1.4785e-01, -7.9849e-02, -2.1936e-03, -9.1362e-02,\n",
      "          7.5577e-03,  9.7152e-02,  5.4985e-02,  1.6783e-01, -8.5155e-02,\n",
      "          1.1405e-01, -1.0813e-01,  4.1274e-02, -8.3538e-02,  6.1219e-02],\n",
      "        [ 1.2612e-01,  1.3987e-01,  9.1484e-02, -8.8441e-02, -3.9006e-02,\n",
      "         -1.2066e-01, -1.0001e-01,  1.3610e-01, -2.5158e-02,  1.1552e-01,\n",
      "          1.5893e-01,  1.4023e-02, -1.4964e-01, -3.4823e-02, -1.4583e-01,\n",
      "         -1.3668e-01,  7.7482e-02, -6.3777e-02,  7.9075e-02,  1.5279e-01,\n",
      "         -1.5895e-02,  1.1040e-01,  6.4484e-02, -1.3324e-02, -1.1895e-01,\n",
      "         -1.5732e-01, -8.4179e-02,  1.6404e-01, -3.5424e-02, -8.3850e-02],\n",
      "        [ 1.2384e-01,  1.6902e-01,  3.6369e-02,  8.4238e-02,  1.2355e-01,\n",
      "         -1.6543e-01,  6.4142e-02,  3.4750e-02, -7.9361e-02, -9.3247e-02,\n",
      "         -9.9665e-02, -6.5762e-02, -7.6229e-02, -1.1812e-01, -1.2615e-01,\n",
      "         -1.0535e-01, -1.0291e-01, -3.6593e-02,  1.3719e-01, -1.1016e-01,\n",
      "          1.4698e-01, -1.1925e-01, -5.5774e-02,  1.3907e-01, -6.7822e-02,\n",
      "          6.0575e-02,  2.0337e-02, -3.2253e-02, -8.7222e-02,  8.6247e-02],\n",
      "        [ 1.0190e-01, -6.2014e-04,  2.6000e-03,  1.6936e-01, -1.7901e-01,\n",
      "          3.4585e-02,  1.1564e-01, -1.2038e-01,  1.1495e-01, -7.1748e-03,\n",
      "          2.9581e-02, -5.7130e-02,  1.5461e-01, -8.3572e-02,  1.2794e-01,\n",
      "         -6.3436e-02,  1.5661e-01, -1.3494e-01,  1.0622e-02, -5.5532e-02,\n",
      "         -1.6376e-01, -1.4081e-01, -4.3831e-02, -1.6340e-01, -1.7648e-02,\n",
      "         -1.3352e-01, -1.4348e-01,  6.5178e-02, -1.1601e-01, -1.3432e-02],\n",
      "        [-1.7248e-02, -4.9499e-03, -1.5296e-01, -1.5767e-01, -1.2534e-01,\n",
      "         -1.0928e-01,  1.8543e-02, -6.8961e-02,  9.5002e-02, -9.9605e-02,\n",
      "          1.2811e-01,  9.0393e-03,  2.1730e-02,  2.5286e-02, -1.7727e-01,\n",
      "          8.0268e-02,  6.0582e-02,  1.7984e-01, -8.8410e-03, -9.1381e-02,\n",
      "          1.5522e-01,  5.5966e-02, -1.5220e-01, -1.0499e-01,  4.6924e-02,\n",
      "         -7.7800e-02, -4.2150e-03, -8.0181e-02, -1.5089e-01, -8.5327e-03],\n",
      "        [ 1.0954e-01, -1.4881e-01, -9.5920e-03, -1.4929e-01,  3.6713e-02,\n",
      "          8.7462e-02,  1.8134e-01, -1.0229e-01,  1.2342e-01, -1.3556e-01,\n",
      "         -1.4256e-01, -8.7119e-02, -1.5964e-01,  4.8681e-02, -1.2181e-01,\n",
      "          9.9522e-02,  1.4087e-01, -1.1395e-01, -7.6511e-03,  4.4723e-02,\n",
      "         -2.0011e-02,  9.2377e-02,  1.3316e-01, -2.4189e-02,  1.1958e-01,\n",
      "          9.4537e-02,  5.6880e-02, -3.0520e-02,  1.6959e-01,  1.7208e-01],\n",
      "        [-3.6522e-02,  1.0023e-02, -1.4547e-01,  6.9262e-02, -3.7268e-02,\n",
      "          8.2875e-02, -1.2876e-01, -3.9592e-02,  3.0885e-03, -1.1485e-01,\n",
      "          1.3034e-01,  1.0134e-01, -4.6798e-02,  1.2563e-01, -1.0732e-02,\n",
      "          1.1218e-01, -1.0473e-01, -1.0177e-01,  1.1288e-01, -1.1050e-01,\n",
      "          1.5970e-01, -1.8128e-01,  6.8037e-02,  3.6947e-02, -1.6217e-01,\n",
      "          1.7250e-02, -1.8184e-02, -8.8214e-02, -3.2910e-02, -1.5658e-01],\n",
      "        [ 1.3197e-01, -1.7325e-01, -1.3273e-01, -1.5533e-03, -4.8863e-02,\n",
      "         -1.2693e-01,  1.5679e-01,  6.2593e-02, -8.5051e-02, -2.5820e-02,\n",
      "         -7.2348e-03,  1.1348e-01,  6.7270e-02, -6.8515e-02, -1.1964e-01,\n",
      "          3.5399e-02,  1.8741e-02, -9.2071e-03,  2.3078e-02, -1.0552e-02,\n",
      "         -1.4044e-01,  3.6736e-02,  1.5795e-01, -1.5459e-01,  8.5341e-02,\n",
      "          1.4853e-01,  1.5193e-01,  2.6997e-02, -1.3943e-01,  1.1816e-01],\n",
      "        [ 1.7297e-01, -1.5117e-01,  1.7489e-01,  8.5394e-02,  1.2558e-01,\n",
      "         -1.5783e-01,  8.4108e-02, -1.0363e-01,  5.3411e-03, -8.6417e-02,\n",
      "          1.3647e-01, -7.3500e-02, -9.9807e-02,  7.3694e-02,  2.5289e-02,\n",
      "         -3.9587e-02, -6.5515e-02, -1.8017e-01, -1.3185e-01,  1.0013e-01,\n",
      "          1.8165e-01, -1.0863e-01, -1.6791e-01, -3.5065e-02, -2.9050e-02,\n",
      "          1.4556e-01, -1.4206e-01,  1.3235e-01,  6.9010e-02,  4.7051e-02],\n",
      "        [ 7.5170e-02,  1.0927e-01, -9.6727e-02,  8.5870e-02, -1.5600e-01,\n",
      "          6.8105e-02, -6.9762e-02,  6.1370e-02,  1.5482e-01,  2.3514e-02,\n",
      "          4.7181e-02, -8.4649e-02, -1.3835e-01, -1.5231e-01,  4.3318e-05,\n",
      "         -1.4597e-01, -8.7946e-02,  2.0589e-02, -1.3276e-01, -1.3972e-01,\n",
      "         -1.7130e-01,  7.2964e-02, -1.2930e-01, -1.5263e-01,  1.6319e-01,\n",
      "         -1.1807e-01,  9.4334e-02,  1.8129e-01,  1.4306e-01,  5.7601e-02],\n",
      "        [-3.0982e-02,  9.6209e-02,  1.0810e-01,  2.9134e-02, -1.7562e-01,\n",
      "          1.1587e-01,  5.7581e-02, -2.4933e-02,  5.3406e-02,  9.5984e-02,\n",
      "         -5.5488e-02, -1.3582e-01, -1.1017e-01, -2.1948e-02,  1.3839e-01,\n",
      "         -3.6514e-02,  4.8477e-02,  3.1230e-02, -7.7802e-02,  4.7488e-02,\n",
      "         -1.0105e-01,  4.3684e-02,  5.5131e-02,  1.1368e-01, -1.4785e-02,\n",
      "         -1.2695e-01,  7.9538e-02,  1.1280e-02, -1.6450e-01,  3.3996e-02],\n",
      "        [-6.5689e-02, -6.2132e-02, -1.9336e-02, -1.9785e-02,  6.5041e-02,\n",
      "         -6.4090e-02,  1.3066e-01, -4.2923e-02, -1.7324e-01,  1.0081e-01,\n",
      "         -2.3926e-02, -1.3565e-01, -1.7950e-01, -1.5592e-02,  9.2691e-02,\n",
      "          1.8013e-01,  1.1881e-01,  1.5982e-01,  1.3043e-01,  7.8488e-02,\n",
      "         -1.3356e-02,  1.7673e-01,  3.1257e-02, -3.7681e-02, -7.9422e-02,\n",
      "         -1.8022e-01,  7.8199e-02,  1.5374e-01, -1.1135e-02, -8.4875e-02],\n",
      "        [-1.2823e-01, -1.4541e-01, -1.3631e-01, -9.4349e-02,  4.4085e-02,\n",
      "         -1.4854e-01,  3.7249e-02,  1.8032e-01, -1.8099e-01,  1.0472e-01,\n",
      "          5.2303e-04,  5.4768e-02, -8.0940e-02, -4.1149e-02,  2.0363e-02,\n",
      "          5.8386e-02,  8.1459e-02, -4.8118e-02, -1.7460e-02,  6.8787e-02,\n",
      "         -1.0976e-01, -1.3419e-01, -1.6220e-01,  1.2813e-02,  5.0949e-02,\n",
      "          5.3285e-02, -4.4293e-02,  2.3586e-02,  1.0246e-01, -1.8123e-01],\n",
      "        [-1.5346e-02, -9.2189e-02,  1.5599e-01,  1.5637e-01, -1.5266e-02,\n",
      "          4.5877e-02, -5.9861e-02, -1.0230e-01, -6.8183e-02, -7.8257e-02,\n",
      "         -1.4828e-01,  2.4345e-02, -1.7615e-01,  5.4215e-02,  1.1097e-01,\n",
      "         -1.6084e-01,  8.3739e-02,  6.2259e-02, -1.0484e-01, -1.3084e-03,\n",
      "          4.0565e-02,  1.6505e-01,  3.9076e-02, -1.5655e-02,  5.0359e-02,\n",
      "         -2.1121e-02, -1.3598e-01, -7.1815e-03, -1.5702e-02,  3.0300e-02],\n",
      "        [-5.1733e-02,  1.6613e-02,  4.5770e-02, -7.5842e-02,  4.8099e-02,\n",
      "          1.6278e-01,  1.2484e-01,  3.6579e-02,  9.4804e-02,  6.6393e-02,\n",
      "          2.6058e-02,  1.0087e-01,  9.1547e-03,  3.6311e-02, -1.5963e-01,\n",
      "          9.2034e-02, -1.2724e-01, -7.6420e-03, -1.2484e-01, -1.1268e-01,\n",
      "         -2.7303e-02, -1.5948e-01,  6.6697e-02,  4.8294e-02,  2.2949e-02,\n",
      "          1.8998e-02, -9.4417e-02,  2.8208e-02,  6.6679e-02, -1.7737e-01],\n",
      "        [-5.0882e-02, -1.8791e-02, -8.5643e-02,  1.0982e-01,  5.1129e-02,\n",
      "         -6.4968e-03,  1.0067e-01,  1.4940e-01, -1.3572e-01,  1.1414e-01,\n",
      "          7.1854e-02,  7.8461e-03,  8.9689e-02,  5.3313e-02,  1.0220e-01,\n",
      "          1.3798e-01,  1.3332e-01, -6.0301e-02,  1.0690e-01,  1.6668e-02,\n",
      "         -2.0914e-03,  1.6372e-01, -1.8672e-02, -1.1067e-01,  8.6800e-02,\n",
      "          2.5689e-02, -7.9210e-02,  4.1611e-02, -1.4055e-01, -3.9425e-02],\n",
      "        [-7.9673e-02, -9.2677e-02, -9.1533e-02, -1.4094e-01, -1.4845e-01,\n",
      "          4.9027e-02, -1.6841e-01, -1.8944e-02, -9.6210e-02, -1.7600e-01,\n",
      "         -6.7839e-02,  9.0519e-02,  1.7067e-01, -8.2394e-02,  1.3126e-01,\n",
      "          4.2867e-03, -3.6559e-02,  1.6467e-01,  1.5781e-01,  1.2902e-01,\n",
      "         -9.6588e-02, -1.6207e-01, -1.1874e-01,  1.1754e-01, -9.0624e-02,\n",
      "          8.2000e-02, -1.6557e-01,  3.2489e-03, -1.6187e-01, -8.5319e-02],\n",
      "        [-4.2995e-03,  1.1334e-01, -5.7187e-02, -1.2653e-01, -5.4814e-02,\n",
      "         -8.9044e-02, -1.2783e-01,  6.2720e-02, -1.2043e-01, -1.3066e-01,\n",
      "         -5.9597e-02,  9.8251e-03, -1.7023e-01, -1.3996e-01,  1.4598e-01,\n",
      "         -3.9507e-02,  4.0649e-02, -1.8147e-01,  2.8939e-02,  1.8407e-02,\n",
      "          1.3160e-01,  1.0808e-01, -1.6879e-02,  4.9586e-03, -1.2008e-01,\n",
      "          1.0614e-01,  1.4849e-01,  4.0288e-02,  1.0844e-01,  9.4089e-02],\n",
      "        [-1.2689e-01, -6.5085e-02, -1.5251e-01,  1.9589e-02, -5.1725e-02,\n",
      "          6.1902e-02,  8.2292e-02, -5.9881e-02,  3.5754e-02,  1.6469e-01,\n",
      "         -1.7208e-01, -1.0705e-01,  9.8144e-02,  1.2568e-01,  5.0531e-02,\n",
      "         -1.3902e-02, -7.0974e-02,  8.4990e-02,  8.0641e-02, -1.6628e-01,\n",
      "         -1.6030e-01,  6.4568e-02, -1.0422e-01, -4.8147e-02,  1.1873e-01,\n",
      "          4.0264e-02, -1.0374e-01,  4.0273e-02, -3.8118e-03,  1.1139e-01],\n",
      "        [ 3.8461e-02, -1.4536e-01,  1.1596e-01,  1.3267e-01, -1.4567e-02,\n",
      "         -5.9320e-02,  1.5749e-01, -5.2649e-02, -1.6233e-01, -1.2746e-01,\n",
      "          5.1993e-02,  1.6511e-02, -3.1543e-02, -6.7006e-02, -5.0051e-02,\n",
      "         -1.4270e-01, -5.2750e-02,  7.2331e-02, -1.6186e-02, -7.7152e-03,\n",
      "          1.4562e-01,  2.7301e-02, -7.5810e-02, -9.4188e-02,  1.1401e-01,\n",
      "          9.4410e-02, -1.3125e-01,  1.0267e-01, -1.5329e-01,  1.0686e-01]],\n",
      "       requires_grad=True)\n"
     ]
    }
   ],
   "source": [
    "print(model.layers[2].weight)"
   ]
  },
  {
   "cell_type": "markdown",
   "id": "4e244105",
   "metadata": {},
   "source": [
    "Since this is a large matrix that is not shown in its entirety, let's use the .shape attribute to show its dimensions:"
   ]
  },
  {
   "cell_type": "code",
   "execution_count": 32,
   "id": "78957549",
   "metadata": {},
   "outputs": [
    {
     "name": "stdout",
     "output_type": "stream",
     "text": [
      "Shape of the weight of the first layer: torch.Size([30, 50])\n",
      "Shape of the weight of the second layer: torch.Size([20, 30])\n"
     ]
    }
   ],
   "source": [
    "first_layer = model.layers[0].weight.shape\n",
    "second_layer = model.layers[2].weight.shape\n",
    "\n",
    "print(f\"Shape of the weight of the first layer:\", first_layer)\n",
    "print(f\"Shape of the weight of the second layer:\", second_layer)"
   ]
  },
  {
   "cell_type": "markdown",
   "id": "54c3bade",
   "metadata": {},
   "source": [
    "(Similarly, you could access the bias vector via `model.layers[0].bias`.)"
   ]
  },
  {
   "cell_type": "code",
   "execution_count": 33,
   "id": "83f6347c",
   "metadata": {},
   "outputs": [
    {
     "name": "stdout",
     "output_type": "stream",
     "text": [
      "Shape of the bias of the first layer: torch.Size([30])\n",
      "Shape of the bias of the second layer: torch.Size([20])\n"
     ]
    }
   ],
   "source": [
    "first_layer_bias = model.layers[0].bias.shape\n",
    "second_layer_bias = model.layers[2].bias.shape\n",
    "\n",
    "print(f\"Shape of the bias of the first layer:\", first_layer_bias)\n",
    "print(f\"Shape of the bias of the second layer:\", second_layer_bias)"
   ]
  },
  {
   "cell_type": "markdown",
   "id": "fa1f403a",
   "metadata": {},
   "source": [
    "The weight matrix of the first layer above is a `30x50` matrix, and we can see that the `requires_grad` is set to True, which means its entries are trainable -- this is the default setting for `weights` and `biases` in `torch.nn.Linear`.\n",
    "\n",
    "Note that if you execute the code above on your computer, the numbers in the weight matrix will likely differ from those shown above. This is because the model weights are initialized with small random numbers, which are different each time we instantiate the network. In deep learning, initializing model weights with small random numbers is desired to break symmetry during training -- otherwise, the nodes would be just performing the same operations and updates during backpropagation.\n",
    "\n",
    "However, while we want to keep using small random numbers as initial values for our layer weights, we can make the random number initialization reproducible by `seeding` PyTorch's random number generator via `manual_seed`:"
   ]
  },
  {
   "cell_type": "code",
   "execution_count": 34,
   "id": "a6b886cb",
   "metadata": {},
   "outputs": [
    {
     "name": "stdout",
     "output_type": "stream",
     "text": [
      "Parameter containing:\n",
      "tensor([[-0.0577,  0.0047, -0.0702,  ...,  0.0222,  0.1260,  0.0865],\n",
      "        [ 0.0502,  0.0307,  0.0333,  ...,  0.0951,  0.1134, -0.0297],\n",
      "        [ 0.1077, -0.1108,  0.0122,  ...,  0.0108, -0.1049, -0.1063],\n",
      "        ...,\n",
      "        [-0.0787,  0.1259,  0.0803,  ...,  0.1218,  0.1303, -0.1351],\n",
      "        [ 0.1359,  0.0175, -0.0673,  ...,  0.0674,  0.0676,  0.1058],\n",
      "        [ 0.0790,  0.1343, -0.0293,  ...,  0.0344, -0.0971, -0.0509]],\n",
      "       requires_grad=True)\n"
     ]
    }
   ],
   "source": [
    "torch.manual_seed(123)\n",
    "model = NeuralNetwork(50, 3)\n",
    "print(model.layers[0].weight)"
   ]
  },
  {
   "cell_type": "markdown",
   "id": "62632995",
   "metadata": {},
   "source": [
    "Now, after we spent some time inspecting the `NeuraNetwork` instance, let's briefly see how it's used via the forward pass:"
   ]
  },
  {
   "cell_type": "code",
   "execution_count": 35,
   "id": "ffc44ff1",
   "metadata": {},
   "outputs": [],
   "source": [
    "torch.manual_seed(123)\n",
    "X = torch.rand((1, 50))"
   ]
  },
  {
   "cell_type": "code",
   "execution_count": 36,
   "id": "9fcd7b4b",
   "metadata": {},
   "outputs": [
    {
     "data": {
      "text/plain": [
       "tensor([[0.2961, 0.5166, 0.2517, 0.6886, 0.0740, 0.8665, 0.1366, 0.1025, 0.1841,\n",
       "         0.7264, 0.3153, 0.6871, 0.0756, 0.1966, 0.3164, 0.4017, 0.1186, 0.8274,\n",
       "         0.3821, 0.6605, 0.8536, 0.5932, 0.6367, 0.9826, 0.2745, 0.6584, 0.2775,\n",
       "         0.8573, 0.8993, 0.0390, 0.9268, 0.7388, 0.7179, 0.7058, 0.9156, 0.4340,\n",
       "         0.0772, 0.3565, 0.1479, 0.5331, 0.4066, 0.2318, 0.4545, 0.9737, 0.4606,\n",
       "         0.5159, 0.4220, 0.5786, 0.9455, 0.8057]])"
      ]
     },
     "execution_count": 36,
     "metadata": {},
     "output_type": "execute_result"
    }
   ],
   "source": [
    "X"
   ]
  },
  {
   "cell_type": "code",
   "execution_count": 37,
   "id": "ae725e0d",
   "metadata": {},
   "outputs": [
    {
     "data": {
      "text/plain": [
       "(torch.Size([1, 50]), 2)"
      ]
     },
     "execution_count": 37,
     "metadata": {},
     "output_type": "execute_result"
    }
   ],
   "source": [
    "X.shape, X.dim()"
   ]
  },
  {
   "cell_type": "code",
   "execution_count": 38,
   "id": "13de67b1",
   "metadata": {},
   "outputs": [
    {
     "name": "stdout",
     "output_type": "stream",
     "text": [
      "tensor([[-0.1262,  0.1080, -0.1792]], grad_fn=<AddmmBackward0>)\n"
     ]
    }
   ],
   "source": [
    "out = model(X)\n",
    "print(out)"
   ]
  },
  {
   "cell_type": "markdown",
   "id": "794f8795",
   "metadata": {},
   "source": [
    "In the code above, we generated a single random training example `X` as a toy input (note that our network expects `50-dimensional` feature vectors) and fed it to the model, returning three scores. When we call `model(x)`, it will automatically execute the forward pass of the\n",
    "model.\n",
    "\n",
    "The forward pass refers to calculating output tensors from input tensors. This involves passing the input data through all the neural network layers, starting from the input layer, through hidden layers, and finally to the output layer.\n",
    "\n",
    "These three numbers returned above correspond to a score assigned to each of the three output nodes. Notice that the output tensor also includes a `grad_fn` value.\n",
    "\n",
    "Here, `grad_fn=<AddmmBackward0>` represents the last-used function to compute a variable in the computational graph. In particular, `grad_fn=<AddmmBackward0>` means that the tensor we are inspecting was created via a matrix multiplication and addition operation.\n",
    "PyTorch will use this information when it computes gradients during backpropagation. The `<AddmmBackward0>` part of `grad_fn=<AddmmBackward0>` specifies the operation that was performed. In this case, it is an `Addmm` operation. `Addmm` stands for `matrix multiplication (mm)` followed by an `addition (Add)`."
   ]
  },
  {
   "cell_type": "markdown",
   "id": "88b43f20",
   "metadata": {},
   "source": [
    "If we just want to use a network without training or backpropagation, for example, if we use it for prediction after training, constructing this computational graph for backpropagation can be wasteful as it performs unnecessary computations and consumes additional memory. So, when we use a model for inference (for instance, making predictions) rather than training, it is a best practice to use the `torch.no_grad()` context manager, as shown below. This tells PyTorch that it doesn't need to keep track of the gradients, which can result in significant savings in memory and computation."
   ]
  },
  {
   "cell_type": "code",
   "execution_count": 39,
   "id": "31bace6c",
   "metadata": {},
   "outputs": [
    {
     "name": "stdout",
     "output_type": "stream",
     "text": [
      "tensor([[-0.1262,  0.1080, -0.1792]])\n"
     ]
    }
   ],
   "source": [
    "with torch.no_grad():\n",
    "    out = model(X)\n",
    "print(out)"
   ]
  },
  {
   "cell_type": "markdown",
   "id": "b6dc33ef",
   "metadata": {},
   "source": [
    "In PyTorch, it's common practice to code models such that they return the outputs of the `last layer (logits)` without passing them to a `nonlinear activation` function. That's because `PyTorch's` commonly used loss functions combine the `softmax (or sigmoid for binary\n",
    "classification)` operation with the `negative log-likelihood loss` in a single class. The reason for this is numerical efficiency and stability. So, if we want to compute `class-membership probabilities` for our predictions, we have to call the `softmax` function explicitly:"
   ]
  },
  {
   "cell_type": "code",
   "execution_count": 40,
   "id": "257156b1",
   "metadata": {},
   "outputs": [
    {
     "name": "stdout",
     "output_type": "stream",
     "text": [
      "tensor([[0.3113, 0.3934, 0.2952]])\n"
     ]
    },
    {
     "data": {
      "text/plain": [
       "tensor(1.)"
      ]
     },
     "execution_count": 40,
     "metadata": {},
     "output_type": "execute_result"
    }
   ],
   "source": [
    "with torch.no_grad():\n",
    "    out = torch.softmax(model(X), dim=1)\n",
    "print(out)\n",
    "out.sum()"
   ]
  },
  {
   "cell_type": "markdown",
   "id": "55d50b74",
   "metadata": {},
   "source": [
    "The values can now be interpreted as `class-membership probabilities` that sum up to `1`. The values are roughly equal for this random input, which is expected for a randomly initialized model without training."
   ]
  },
  {
   "cell_type": "markdown",
   "id": "4d0120d1",
   "metadata": {},
   "source": [
    "## Setting up efficient data loaders\n",
    "\n",
    "In PyTorch, a `DataLoader` is a `utility class` within the `torch.utils.data` module that facilitates efficient data loading for training and evaluating machine learning models. It acts as an interface between your dataset and the model, abstracting away complexities like batching, shuffling, and parallel data loading.\n",
    "\n",
    "\n",
    "**How it works:**\n",
    "\n",
    "**Wraps a Dataset:** The `DataLoader` takes a `Dataset` object as input. This `Dataset` object can be a built-in PyTorch dataset `(e.g., MNIST, CIFAR-10)` or a custom dataset you define by inheriting from `torch.utils.data.Dataset`.\n",
    "\n",
    "\n",
    "**Batching:** It groups individual data samples from the dataset into mini-batches, which are then fed to the model for training or inference. This is crucial for efficient training, especially with large datasets, as it allows for `parallel processing` and better utilization of hardware resources.\n",
    "\n",
    "\n",
    "**Shuffling:** It can shuffle the data samples at the beginning of each epoch (or before training) to ensure that the model does not learn patterns based on the order of the data.\n",
    "\n",
    "\n",
    "**Parallel Loading (Optional):** It can use multiple worker processes (`num_workers` parameter) to load data in parallel, which can significantly speed up the data loading process, preventing the GPU from waiting for data.\n",
    "\n",
    "\n",
    "**Iteration:** The `DataLoader` makes the dataset iterable, allowing you to easily loop through the data in batches during your training or evaluation loop."
   ]
  },
  {
   "cell_type": "markdown",
   "id": "7a688c9a",
   "metadata": {},
   "source": [
    "![Alt text](../assests/dataloader.png)"
   ]
  },
  {
   "cell_type": "markdown",
   "id": "1f2efdea",
   "metadata": {},
   "source": [
    "Following the `illustration` in `figure A.10`, in this section, we will implement a custom Dataset\n",
    "class that we will use to create a training and a test dataset that we'll then use to create\n",
    "the data loaders.\n",
    "\n",
    "Let's start by creating a simple toy dataset of five training examples with two features each. Accompanying the training examples, we also create a tensor containing the corresponding class labels: three examples belong to `class 0`, and two examples belong to `class 1`. In addition, we also make a `test set` consisting of two entries. \n",
    "\n",
    "The code to create this dataset is shown below."
   ]
  },
  {
   "cell_type": "code",
   "execution_count": 41,
   "id": "c5d55c4e",
   "metadata": {},
   "outputs": [],
   "source": [
    "X_train = torch.tensor([\n",
    "    [-1.2, 3.1],\n",
    "    [-0.9, 2.9],\n",
    "    [-0.5, 2.6],\n",
    "    [2.3, -1.1],\n",
    "    [2.7, -1.5]\n",
    "])\n",
    "\n",
    "y_train = torch.tensor([0, 0, 0, 1, 1])\n",
    "\n",
    "X_test = torch.tensor([\n",
    "    [-0.8, 2.8],\n",
    "    [2.6, -1.6],\n",
    "])\n",
    "y_test = torch.tensor([0, 1])"
   ]
  },
  {
   "cell_type": "code",
   "execution_count": 42,
   "id": "72bbb1bd",
   "metadata": {},
   "outputs": [
    {
     "data": {
      "text/plain": [
       "(tensor([[-1.2000,  3.1000],\n",
       "         [-0.9000,  2.9000],\n",
       "         [-0.5000,  2.6000],\n",
       "         [ 2.3000, -1.1000],\n",
       "         [ 2.7000, -1.5000]]),\n",
       " tensor([[-0.8000,  2.8000],\n",
       "         [ 2.6000, -1.6000]]))"
      ]
     },
     "execution_count": 42,
     "metadata": {},
     "output_type": "execute_result"
    }
   ],
   "source": [
    "X_train, X_test"
   ]
  },
  {
   "cell_type": "code",
   "execution_count": 43,
   "id": "e4b12efc",
   "metadata": {},
   "outputs": [
    {
     "data": {
      "text/plain": [
       "(torch.Size([5, 2]), torch.Size([2, 2]))"
      ]
     },
     "execution_count": 43,
     "metadata": {},
     "output_type": "execute_result"
    }
   ],
   "source": [
    "X_train.shape, X_test.shape"
   ]
  },
  {
   "cell_type": "code",
   "execution_count": 44,
   "id": "4c3834d7",
   "metadata": {},
   "outputs": [
    {
     "data": {
      "text/plain": [
       "(5, 5)"
      ]
     },
     "execution_count": 44,
     "metadata": {},
     "output_type": "execute_result"
    }
   ],
   "source": [
    "len(X_train), X_train.shape[0]"
   ]
  },
  {
   "cell_type": "markdown",
   "id": "c533e453",
   "metadata": {},
   "source": [
    "**CLASS LABEL NUMBERING** PyTorch requires that class labels start with `label 0`, and the largest class label value should not exceed the number of output nodes minus 1 (since Python index counting\n",
    "starts at 0. So, if we have class labels `0, 1, 2, 3, and 4`, the neural network output layer should consist of 5 nodes."
   ]
  },
  {
   "cell_type": "markdown",
   "id": "250a443c",
   "metadata": {},
   "source": [
    "Next, we create a custom dataset class, `ToyDataset`, by subclassing from PyTorch's Dataset parent class, as shown below."
   ]
  },
  {
   "cell_type": "code",
   "execution_count": 45,
   "id": "e044bfc5",
   "metadata": {},
   "outputs": [],
   "source": [
    "from torch.utils.data import Dataset\n",
    "\n",
    "class ToyDataset(Dataset):\n",
    "    def __init__(self, X, y):\n",
    "        self.features = X\n",
    "        self.labels = y\n",
    "        \n",
    "    def __getitem__(self, index):\n",
    "        one_x = self.features[index]\n",
    "        one_y = self.labels[index]\n",
    "        return one_x, one_y\n",
    "    \n",
    "    def __len__(self):\n",
    "        return self.labels.shape[0]\n",
    "    \n",
    "\n",
    "train_ds = ToyDataset(X_train, y_train)\n",
    "test_ds = ToyDataset(X_test, y_test)"
   ]
  },
  {
   "cell_type": "markdown",
   "id": "76b79f94",
   "metadata": {},
   "source": [
    "This custom `ToyDataset` class's purpose is to use it to instantiate a PyTorch `DataLoader`.\n",
    "But before we get to this step, let's briefly go over the general structure of the `ToyDataset`\n",
    "code.\n",
    "\n",
    "In PyTorch, the three main components of a custom Dataset class are the `__init__`\n",
    "constructor, the `__getitem__` method, and the `__len__` method, as shown in code listing above.\n",
    "\n",
    "In the `__init__` method, we set up attributes that we can access later in the `__getitem__` and `__len__` methods. This could be file paths, file objects, database connectors, and so on. Since we created a tensor dataset that sits in memory, we are simply assigning `X` and `y` to these attributes, which are placeholders for our tensor objects.\n",
    "\n",
    "In the `__getitem__` method, we define instructions for returning exactly one item from the dataset via an index. This means the features and the class label corresponding to a single training example or test instance.\n",
    "\n",
    "Finally, the `__len__` method constrains instructions for retrieving the length of the dataset. Here, we use the `.shape` attribute of a tensor to return the number of rows in the feature array. In the case of the training dataset, we have five rows, which we can double-check as follows:"
   ]
  },
  {
   "cell_type": "code",
   "execution_count": 46,
   "id": "fe7ed334",
   "metadata": {},
   "outputs": [
    {
     "name": "stdout",
     "output_type": "stream",
     "text": [
      "5\n",
      "2\n"
     ]
    },
    {
     "data": {
      "text/plain": [
       "(None, None)"
      ]
     },
     "execution_count": 46,
     "metadata": {},
     "output_type": "execute_result"
    }
   ],
   "source": [
    "print(len(train_ds)), print(len(test_ds))"
   ]
  },
  {
   "cell_type": "markdown",
   "id": "1c8b29ae",
   "metadata": {},
   "source": [
    "Now that we defined a PyTorch Dataset class we can use for our toy dataset, we can use PyTorch's `DataLoader` class to sample from it, as shown in the code listing below:"
   ]
  },
  {
   "cell_type": "code",
   "execution_count": 47,
   "id": "92b9040e",
   "metadata": {},
   "outputs": [],
   "source": [
    "from torch.utils.data import DataLoader\n",
    "\n",
    "torch.manual_seed(235)\n",
    "\n",
    "train_loader = DataLoader(\n",
    "    dataset=train_ds,\n",
    "    batch_size=2,\n",
    "    shuffle=True,\n",
    "    num_workers=0\n",
    ")\n",
    "\n",
    "test_loader = DataLoader(\n",
    "    dataset=test_ds,\n",
    "    batch_size=2,\n",
    "    shuffle=False,\n",
    "    num_workers=0\n",
    ")"
   ]
  },
  {
   "cell_type": "markdown",
   "id": "7db929d6",
   "metadata": {},
   "source": [
    "- **train_loader**: The `ToyDataset` instance created earlier serves as input to the data loader\n",
    "- **shuffle**: Whether or not to shuffle the data\n",
    "- **batch_size**: The number of background processes\n",
    "- **shuffle=False**: It is not necessary to shuffle the test data"
   ]
  },
  {
   "cell_type": "markdown",
   "id": "bcb0bcb9",
   "metadata": {},
   "source": [
    "After instantiating the training data loader, we can iterate over it as shown below. (The\n",
    "iteration over the `test_loader` works similarly but is omitted for brevity.)"
   ]
  },
  {
   "cell_type": "code",
   "execution_count": 48,
   "id": "fe8138e8",
   "metadata": {},
   "outputs": [
    {
     "name": "stdout",
     "output_type": "stream",
     "text": [
      "Batch 1: tensor([[-0.9000,  2.9000],\n",
      "        [ 2.3000, -1.1000]]) tensor([0, 1])\n",
      "Batch 2: tensor([[-0.5000,  2.6000],\n",
      "        [ 2.7000, -1.5000]]) tensor([0, 1])\n",
      "Batch 3: tensor([[-1.2000,  3.1000]]) tensor([0])\n"
     ]
    }
   ],
   "source": [
    "for idx, (x, y) in enumerate(train_loader):\n",
    "    print(f\"Batch {idx+1}:\", x, y)"
   ]
  },
  {
   "cell_type": "code",
   "execution_count": 49,
   "id": "2230c48b",
   "metadata": {},
   "outputs": [
    {
     "name": "stdout",
     "output_type": "stream",
     "text": [
      "0 [tensor([[-1.2000,  3.1000],\n",
      "        [ 2.7000, -1.5000]]), tensor([0, 1])]\n",
      "1 [tensor([[-0.5000,  2.6000],\n",
      "        [-0.9000,  2.9000]]), tensor([0, 0])]\n",
      "2 [tensor([[ 2.3000, -1.1000]]), tensor([1])]\n"
     ]
    }
   ],
   "source": [
    "for idx, enu in enumerate(train_loader):\n",
    "    print(idx, enu)"
   ]
  },
  {
   "cell_type": "markdown",
   "id": "207f1a02",
   "metadata": {},
   "source": [
    "As we can see based on the output above, the `train_loader` iterates over the training dataset visiting each training example exactly once. This is known as a `training epoch`. Since we seeded the random number generator using `torch.manual_seed(123)` above, you should get the exact same shuffling order of training examples as shown above. However if you iterate over the dataset a second time, you will see that the shuffling order will change. This is desired to prevent deep neural networks getting caught in repetitive update cycles during training.\n",
    "\n",
    "\n",
    "Note that we specified a batch size of `2` above, but the `3rd batch` only contains a single example. That's because we have five training examples, which is not evenly divisible by 2. In practice, having a substantially smaller batch as the last batch in a training epoch can disturb the convergence during training. To prevent this, it's recommended to set `drop_last=True`, which will drop the last batch in each epoch, as shown below:"
   ]
  },
  {
   "cell_type": "code",
   "execution_count": 50,
   "id": "b1b263d4",
   "metadata": {},
   "outputs": [],
   "source": [
    "train_loader = DataLoader(\n",
    "    dataset=train_ds,\n",
    "    batch_size=2,\n",
    "    shuffle=True,\n",
    "    num_workers=0,\n",
    "    drop_last=True,\n",
    ")"
   ]
  },
  {
   "cell_type": "markdown",
   "id": "016e49a8",
   "metadata": {},
   "source": [
    "Now, iterating over the training loader, we can see that the last batch is omitted:"
   ]
  },
  {
   "cell_type": "code",
   "execution_count": 51,
   "id": "dcd6c242",
   "metadata": {},
   "outputs": [
    {
     "name": "stdout",
     "output_type": "stream",
     "text": [
      "Batch 1: tensor([[-0.5000,  2.6000],\n",
      "        [-1.2000,  3.1000]]) tensor([0, 0])\n",
      "Batch 2: tensor([[ 2.3000, -1.1000],\n",
      "        [ 2.7000, -1.5000]]) tensor([1, 1])\n"
     ]
    }
   ],
   "source": [
    "for idx, (x, y) in enumerate(train_loader):\n",
    "    print(f\"Batch {idx+1}:\", x, y)"
   ]
  },
  {
   "cell_type": "markdown",
   "id": "c30ae8fd",
   "metadata": {},
   "source": [
    "Lastly, let's discuss the setting `num_workers=0` in the `DataLoader`. This parameter in PyTorch's `DataLoader` function is crucial for `parallelizing` data loading and preprocessing. When `num_workers` is set to `0`, the data loading will be done in the main process and not in separate worker processes. This might seem unproblematic, but it can lead to significant slowdowns during model training when we train larger networks on a GPU. This is because instead of focusing solely on the processing of the deep learning model, the CPU must also take time to load and preprocess the data. As a result, the GPU can sit idle while waiting for the CPU to finish these tasks. In contrast, when `num_workers` is set to a number greater than zero, multiple worker processes are launched to load data in parallel, freeing the main process to focus on training your model and better utilizing your system's resources, which is illustrated in figure below:"
   ]
  },
  {
   "cell_type": "markdown",
   "id": "8763e0b7",
   "metadata": {},
   "source": [
    "![Alt text](../assests/num_workers.png)"
   ]
  },
  {
   "cell_type": "markdown",
   "id": "5346eea6",
   "metadata": {},
   "source": [
    "However, if we are working with very small datasets, setting `num_workers` to `1` or larger may not be necessary since the total training time takes only fractions of a second anyway. On the contrary, if you are working with tiny datasets or interactive environments such as Jupyter notebooks, increasing `num_workers` may not provide any noticeable speedup. They might, in fact, lead to some issues. One potential issue is the overhead of spinning up multiple worker processes, which could take longer than the actual data loading when your dataset is small.\n",
    "\n",
    "\n",
    "Furthermore, for Jupyter notebooks, setting `num_workers` to greater than `0` can sometimes lead to issues related to the sharing of resources between different processes, resulting in errors or notebook crashes. Therefore, it's essential to understand the `trade-off` and make a calculated decision on setting the `num_workers` parameter. When used correctly, it can be a beneficial tool but should be adapted to your specific dataset size and computational environment for optimal results.\n",
    "\n",
    "In real-world experience, setting `num_workers=4` usually leads to optimal performance on many\n",
    "real-world datasets, but optimal settings depend on your hardware and the code used for \n",
    "loading a training example defined in the Dataset class."
   ]
  },
  {
   "cell_type": "code",
   "execution_count": null,
   "id": "753d6664",
   "metadata": {},
   "outputs": [],
   "source": []
  },
  {
   "cell_type": "markdown",
   "id": "f721e6a0",
   "metadata": {},
   "source": [
    "## A typical training loop\n",
    "\n",
    "Let's now combine all the requirements we have discussed so far and train a neural network on the `toydataset`\n",
    "\n",
    "The training code is below:"
   ]
  },
  {
   "cell_type": "code",
   "execution_count": 52,
   "id": "7ae06310",
   "metadata": {},
   "outputs": [
    {
     "name": "stdout",
     "output_type": "stream",
     "text": [
      "Epoch: 001/003 | Batch 000/002 | Train Loss: 0.75\n",
      "Epoch: 001/003 | Batch 001/002 | Train Loss: 0.65\n",
      "Epoch: 002/003 | Batch 000/002 | Train Loss: 0.44\n",
      "Epoch: 002/003 | Batch 001/002 | Train Loss: 0.13\n",
      "Epoch: 003/003 | Batch 000/002 | Train Loss: 0.03\n",
      "Epoch: 003/003 | Batch 001/002 | Train Loss: 0.00\n"
     ]
    }
   ],
   "source": [
    "import torch.nn.functional as F\n",
    "\n",
    "learning_rate = 0.5\n",
    "torch.manual_seed(123)\n",
    "model = NeuralNetwork(num_inputs=2, num_outputs=2)\n",
    "optimizer = torch.optim.SGD(model.parameters(), lr=learning_rate)\n",
    "\n",
    "num_epochs = 3\n",
    "\n",
    "for epoch in range(num_epochs):\n",
    "    model.train()\n",
    "    for batch_index, (features, labels) in enumerate(train_loader):\n",
    "        logits = model(features)\n",
    "        loss = F.cross_entropy(logits, labels)\n",
    "        \n",
    "        optimizer.zero_grad()\n",
    "        loss.backward()\n",
    "        optimizer.step()\n",
    "        \n",
    "        # LOGGING\n",
    "        print(f\"Epoch: {epoch+1:03d}/{num_epochs:03d}\"\n",
    "              f\" | Batch {batch_index:03d}/{len(train_loader):03d}\"\n",
    "              f\" | Train Loss: {loss:.2f}\"         \n",
    "        )\n",
    "\n",
    "    model.eval()"
   ]
  },
  {
   "cell_type": "markdown",
   "id": "51df72ae",
   "metadata": {},
   "source": [
    "- The dataset from the previous section has `2 features` and `2 classes`\n",
    "- We led the optimizer needs to know which parameters to optimize\n",
    "- Set the gradients from the previous round to zero to prevent unintended gradient accumulation\n",
    "- Compute the gradients to the loss with respect to the model parameters\n",
    "- The optimizer uses the gradients to update the model parameters"
   ]
  },
  {
   "cell_type": "markdown",
   "id": "821e730d",
   "metadata": {},
   "source": [
    "As we can see, the loss reaches zero after `3 epochs`, a sign that the model converged on the training set. However, before we evaluate the model's predictions, let's go over some of the details of the preceding code listing.\n",
    "\n",
    "First, note that we initialized a model with `two inputs` and `two outputs`. That's because the `toy dataset` from the previous section has `two input` features and `two class` labels to predict. We used a `stochastic gradient descent (SGD)` optimizer with a `learning rate (lr)` of `0.5`. The learning rate is a `hyperparameter`, meaning it's a tunable setting that we have to experiment with based on observing the loss. Ideally, we want to choose a learning rate such that the loss converges after a certain number of epochs -- the number of epochs is another hyperparameter to choose."
   ]
  },
  {
   "cell_type": "markdown",
   "id": "175457d7",
   "metadata": {},
   "source": [
    "In practice, we often use a `third` dataset, a so-called `validation dataset`, to find the optimal\n",
    "`hyperparameter` settings. A `validation dataset` is similar to a `test set`. However, while we only want to use a test set precisely once to avoid biasing the evaluation, we usually use the `validation set` multiple times to tweak the model settings.\n",
    "\n",
    "We also introduced new settings called `model.train()` and `model.eval()`. As these names imply, these settings are used to put the model into a training and an evaluation mode. This is necessary for components that behave differently during training and inference, such as `dropout` or `batch normalization` layers. Since we don't have `dropout` or other components in our `NeuralNetwork` class that are affected by these settings, using `model.train()` and `model.eval()` is redundant in our code above. However, it's best practice to include them anyway to avoid unexpected behaviors when we change the `model architecture` or reuse the code to train a different model.\n",
    "\n",
    "\n",
    "As discussed earlier, we pass the `logits` directly into the `cross_entropy` loss function, which will apply the `softmax function` internally for efficiency and numerical stability reasons. Then, calling `loss.backward()` will calculate the gradients in the computation graph that PyTorch constructed in the background. The `optimizer.step()` method will use the gradients to update the model parameters to minimize the loss. In the case of the `SGD` optimizer, this means multiplying the gradients with the learning rate and adding the scaled negative gradient to the parameters."
   ]
  },
  {
   "cell_type": "markdown",
   "id": "915a3f78",
   "metadata": {},
   "source": [
    "![Alt text](../assests/softmax.png)"
   ]
  },
  {
   "cell_type": "markdown",
   "id": "f56a8c74",
   "metadata": {},
   "source": [
    "**PREVENTING UNDESIRED GRADIENT ACCUMULATION** It is important to include an `optimizer.zero_grad()` call in each update round to reset the gradients to zero. Otherwise, the gradients will accumulate, which may be undesired."
   ]
  },
  {
   "cell_type": "code",
   "execution_count": 53,
   "id": "7d8a0bef",
   "metadata": {},
   "outputs": [
    {
     "name": "stdout",
     "output_type": "stream",
     "text": [
      "tensor([[ 2.8569, -4.1618],\n",
      "        [ 2.5382, -3.7548],\n",
      "        [ 2.0944, -3.1820],\n",
      "        [-1.4814,  1.4816],\n",
      "        [-1.7176,  1.7342]])\n"
     ]
    }
   ],
   "source": [
    "# After we trained the model, we can use it to make predictions, as shown below:\n",
    "\n",
    "model.eval()\n",
    "with torch.no_grad():\n",
    "    outputs = model(X_train)\n",
    "print(outputs)"
   ]
  },
  {
   "cell_type": "markdown",
   "id": "6a8ed90a",
   "metadata": {},
   "source": [
    "To obtain the class membership probabilities, we can then use PyTorch's softmax function, we follows:"
   ]
  },
  {
   "cell_type": "code",
   "execution_count": 54,
   "id": "5b50f238",
   "metadata": {},
   "outputs": [
    {
     "name": "stdout",
     "output_type": "stream",
     "text": [
      "tensor([[    0.9991,     0.0009],\n",
      "        [    0.9982,     0.0018],\n",
      "        [    0.9949,     0.0051],\n",
      "        [    0.0491,     0.9509],\n",
      "        [    0.0307,     0.9693]])\n"
     ]
    }
   ],
   "source": [
    "torch.set_printoptions(sci_mode=False)\n",
    "probas = torch.softmax(outputs, dim=1)\n",
    "print(probas)"
   ]
  },
  {
   "cell_type": "markdown",
   "id": "b0c3342c",
   "metadata": {},
   "source": [
    "Let's consider the first row in the code output above. Here, the first value (column) means that the training example has a `99.91%` probability of belonging to `class 0` and a `0.09%` probability of belonging to `class 1`. (The `set_printoptions` call is used here to make the outputs more legible.)\n",
    "\n",
    "\n",
    "We can convert these values into class labels predictions using PyTorch's `argmax` function, which returns the `index position` of the highest value in each row if we set `dim=1` (setting `dim=0` would return the highest value in each column, instead):"
   ]
  },
  {
   "cell_type": "code",
   "execution_count": 55,
   "id": "8e977299",
   "metadata": {},
   "outputs": [
    {
     "name": "stdout",
     "output_type": "stream",
     "text": [
      "tensor([0, 0, 0, 1, 1])\n"
     ]
    }
   ],
   "source": [
    "predictions = torch.argmax(probas, dim=1)\n",
    "print(predictions)"
   ]
  },
  {
   "cell_type": "code",
   "execution_count": 56,
   "id": "3ec9b8b3",
   "metadata": {},
   "outputs": [],
   "source": [
    "# preds = torch.argmax(probas, dim=0)\n",
    "# print(preds)"
   ]
  },
  {
   "cell_type": "markdown",
   "id": "c5540ce4",
   "metadata": {},
   "source": [
    "Note that it is unnecessary to compute softmax probabilities to obtain the class labels. We could also apply the `argmax` function to the logits (outputs) directly:"
   ]
  },
  {
   "cell_type": "code",
   "execution_count": 57,
   "id": "7ab417ea",
   "metadata": {},
   "outputs": [
    {
     "name": "stdout",
     "output_type": "stream",
     "text": [
      "tensor([0, 0, 0, 1, 1])\n"
     ]
    }
   ],
   "source": [
    "predicitons = torch.argmax(outputs, dim=1)\n",
    "print(predictions)"
   ]
  },
  {
   "cell_type": "markdown",
   "id": "d60109f2",
   "metadata": {},
   "source": [
    "Above, we computed the predicted labels for the training dataset. Since the training dataset is relatively small, we could compare it to the true training labels by eye and see that the model is 100% correct. We can double-check this using the == comparison operator:"
   ]
  },
  {
   "cell_type": "code",
   "execution_count": 58,
   "id": "a8a8dd68",
   "metadata": {},
   "outputs": [
    {
     "data": {
      "text/plain": [
       "tensor([True, True, True, True, True])"
      ]
     },
     "execution_count": 58,
     "metadata": {},
     "output_type": "execute_result"
    }
   ],
   "source": [
    "predictions == y_train"
   ]
  },
  {
   "cell_type": "markdown",
   "id": "45a59854",
   "metadata": {},
   "source": [
    "Using `torch.sum`, we can count the number of correct prediction as follows:"
   ]
  },
  {
   "cell_type": "code",
   "execution_count": 59,
   "id": "ed3dd599",
   "metadata": {},
   "outputs": [
    {
     "data": {
      "text/plain": [
       "tensor(5)"
      ]
     },
     "execution_count": 59,
     "metadata": {},
     "output_type": "execute_result"
    }
   ],
   "source": [
    "torch.sum(predictions == y_train)"
   ]
  },
  {
   "cell_type": "markdown",
   "id": "43b584d4",
   "metadata": {},
   "source": [
    "Since the dataset consists of 5 training examples, we have 5 out of 5 predictions that are correct, which equals `5/5 × 100% = 100%` prediction accuracy.\n",
    "\n",
    "However, to generalize the computation of the prediction accuracy, let's implement a `compute_accuracy` function as shown in the following code listing."
   ]
  },
  {
   "cell_type": "code",
   "execution_count": 60,
   "id": "cc7101ee",
   "metadata": {},
   "outputs": [],
   "source": [
    "def compute_accuracy(model, dataloader):\n",
    "    model = model.eval()\n",
    "    correct = 0.0\n",
    "    total_examples = 0\n",
    "    \n",
    "    for idx, (features, labels) in enumerate(dataloader):\n",
    "        with torch.no_grad():\n",
    "            logits = model(features)\n",
    "        \n",
    "        predicitons = torch.argmax(logits, dim=1)\n",
    "        compare = labels == predicitons\n",
    "        correct += torch.sum(compare)\n",
    "        total_examples += len(compare)\n",
    "        \n",
    "    return (correct / total_examples).item()"
   ]
  },
  {
   "cell_type": "markdown",
   "id": "dea6ce90",
   "metadata": {},
   "source": [
    "- **compare**: This returns a tensor of True/False values depending on whether the labels match\n",
    "- **correct**: The sum operations counts the number of True values\n",
    "- **return value**: This is the fraction of correct prediction, a value between 0 and 1. And `.item()` returns the value of the tensor as a Python float."
   ]
  },
  {
   "cell_type": "markdown",
   "id": "6a3f1335",
   "metadata": {},
   "source": [
    "Note that the following code listing iterates over a data loader to compute the number and fraction of the correct predictions. This is because when we work with large datasets, we typically can only call the model on a small part of the dataset due to memory limitations. The `compute_accuracy` function above is a general method that scales to datasets of arbitrary size since, in each iteration, the dataset chunk that the model receives is the same size as the batch size seen during training.\n",
    "\n",
    "Notice that the internals of the `compute_accuracy` function are similar to what we used before when we converted the logits to the class labels.\n",
    "\n",
    "We can then apply the function to the training as follows:"
   ]
  },
  {
   "cell_type": "code",
   "execution_count": 61,
   "id": "0a20793b",
   "metadata": {},
   "outputs": [
    {
     "name": "stdout",
     "output_type": "stream",
     "text": [
      "1.0\n"
     ]
    }
   ],
   "source": [
    "print(compute_accuracy(model, train_loader))"
   ]
  },
  {
   "cell_type": "markdown",
   "id": "f2355121",
   "metadata": {},
   "source": [
    "Similarly, we can apply the function to the test set as follows:"
   ]
  },
  {
   "cell_type": "code",
   "execution_count": 62,
   "id": "0a15c87b",
   "metadata": {},
   "outputs": [
    {
     "name": "stdout",
     "output_type": "stream",
     "text": [
      "1.0\n"
     ]
    }
   ],
   "source": [
    "print(compute_accuracy(model, test_loader))"
   ]
  },
  {
   "cell_type": "markdown",
   "id": "6c7c1206",
   "metadata": {},
   "source": [
    "In this section, we learned how we can train a neural network using PyTorch. Next, let's see\n",
    "how we can save and restore models after training."
   ]
  },
  {
   "cell_type": "markdown",
   "id": "1ddf0fd0",
   "metadata": {},
   "source": [
    "## Saving and loading models"
   ]
  },
  {
   "cell_type": "markdown",
   "id": "21c07814",
   "metadata": {},
   "source": [
    "In the previous section, we successfully trained a model. Let's now see how we can save a `trained model` to reuse it later.\n",
    "\n",
    "Here's the recommended way how we can `save` and `load` models in PyTorch:"
   ]
  },
  {
   "cell_type": "code",
   "execution_count": 63,
   "id": "8aabdb14",
   "metadata": {},
   "outputs": [],
   "source": [
    "torch.save(model.state_dict(), \"model.pth\")"
   ]
  },
  {
   "cell_type": "markdown",
   "id": "2dde89e1",
   "metadata": {},
   "source": [
    "The model's `state_dict` is a Python dictionary object that maps each layer in the model to its trainable parameters `(weights and biases)`. Note that `\"model.pth\"` is an arbitrary filename for the model file saved to disk. We can give it any name and file ending we like; however, `.pth` and `.pt` are the most common conventions.\n",
    "\n",
    "Once we saved the model, we can restore it from disk as follows:"
   ]
  },
  {
   "cell_type": "code",
   "execution_count": 64,
   "id": "67bf2289",
   "metadata": {},
   "outputs": [
    {
     "data": {
      "text/plain": [
       "<All keys matched successfully>"
      ]
     },
     "execution_count": 64,
     "metadata": {},
     "output_type": "execute_result"
    }
   ],
   "source": [
    "model = NeuralNetwork(2, 2)\n",
    "model.load_state_dict(torch.load(\"model.pth\"))"
   ]
  },
  {
   "cell_type": "markdown",
   "id": "05c87453",
   "metadata": {},
   "source": [
    "The `torch.load(\"model.pth\")` function reads the file `\"model.pth\"` and reconstructs the Python dictionary object containing the model's parameters while `model.load_state_dict()` applies these parameters to the model, effectively restoring its learned state from when we saved it.\n",
    "\n",
    "Note that the line `model = NeuralNetwork(2, 2)` above is not strictly necessary if you execute this code in the same session where you saved a model. However, I included it here to illustrate that we need an instance of the model in memory to apply the saved parameters. Here, the `NeuralNetwork(2, 2)` architecture needs to match the original saved model exactly.\n",
    "\n",
    "Now, we are well equipped to use PyTorch to implement large language models."
   ]
  },
  {
   "cell_type": "markdown",
   "id": "e040c6a6",
   "metadata": {},
   "source": [
    "## Optimizing training performance with GPUs\n",
    "\n",
    "In this section, we'll see how we can utilize `GPUs`, which will accelerate deep neural network training compared to regular `CPUs`. First, we will introduce the main concepts behind GPU computing in PyTorch. Then, we will train a model on a single `GPU`. Finally, we'll then look at distributed training using multiple `GPUs`.\n",
    "\n",
    "\n",
    "### PyTorch computations on GPU devices\n",
    "\n",
    "Before we make the modifications, it's crucial to understand the main concept behind\n",
    "GPU computations within PyTorch. First, we need to introduce the notion of devices. In\n",
    "PyTorch, a device is where computations occur, and data resides. The CPU and the GPU are\n",
    "examples of devices. A PyTorch tensor resides in a device, and its operations are executed\n",
    "on the same device.\n",
    "\n",
    "Assuming that you installed a GPU-compatible version of PyTorch, you can double-check that our\n",
    "runtime indeed supports GPU computing via the following code:\n",
    "```python\n",
    "print(torch.cuda.is_available())\n",
    "```"
   ]
  },
  {
   "cell_type": "markdown",
   "id": "62ca47bc",
   "metadata": {},
   "source": [
    "**Since I am on Apple Mac with an Apple Silicon chip, instead of Nvidia GPU, I'll be using MPS (Metal Performance Shaders).**"
   ]
  },
  {
   "cell_type": "code",
   "execution_count": 65,
   "id": "4c6fdbf8",
   "metadata": {},
   "outputs": [
    {
     "name": "stdout",
     "output_type": "stream",
     "text": [
      "True\n"
     ]
    }
   ],
   "source": [
    "# check for MPS (Metal Performance Shaders) availability on macOS \n",
    "print(torch.backends.mps.is_available())"
   ]
  },
  {
   "cell_type": "code",
   "execution_count": 66,
   "id": "f918694d",
   "metadata": {},
   "outputs": [
    {
     "name": "stdout",
     "output_type": "stream",
     "text": [
      "mps\n"
     ]
    }
   ],
   "source": [
    "device = torch.device(\"mps\" if torch.backends.mps.is_available() else \"cpu\")\n",
    "print(device)"
   ]
  },
  {
   "cell_type": "markdown",
   "id": "ee83d45f",
   "metadata": {},
   "source": [
    "Now, suppose we have two tensors that we can add as follows -- this computation will be\n",
    "carried out on the CPU by default:"
   ]
  },
  {
   "cell_type": "code",
   "execution_count": null,
   "id": "7f6caeeb",
   "metadata": {},
   "outputs": [],
   "source": [
    "tensor_1 = torch.tensor([1., 2., 3.])\n",
    "tensor_2 = torch.tensor([4., 5., 6.])\n",
    "print(tensor_1 + tensor_2)"
   ]
  },
  {
   "cell_type": "markdown",
   "id": "6008ac78",
   "metadata": {},
   "source": [
    "We can now use the `.to()` method to transfer these tensors onto a MPS and perform the\n",
    "addition there:"
   ]
  },
  {
   "cell_type": "code",
   "execution_count": null,
   "id": "48deb3fb",
   "metadata": {},
   "outputs": [],
   "source": [
    "tensor_1 = tensor_1.to(\"mps\")\n",
    "tensor_2 = tensor_2.to(\"mps\")\n",
    "print(tensor_1 + tensor_2)"
   ]
  },
  {
   "cell_type": "markdown",
   "id": "5c7b50dd",
   "metadata": {},
   "source": [
    "Notice that the resulting tensor now includes the device information, `device='mps:0'`, which means that the tensors reside on the first MPS. \n",
    "\n",
    "If your machine hosts multiple `GPUs`, you have the option to specify which GPU you'd like to transfer the tensors to. You can do this by indicating the device ID in the transfer command. For instance, you can use `.to(\"cuda:0\")`, `.to(\"cuda:1\")`, and so on.\n",
    "\n",
    "However, it is important to note that all tensors must be on the same device. Otherwise, the computation will fail."
   ]
  },
  {
   "cell_type": "code",
   "execution_count": null,
   "id": "1bb77a52",
   "metadata": {},
   "outputs": [],
   "source": []
  },
  {
   "cell_type": "markdown",
   "id": "5a1fe691",
   "metadata": {},
   "source": [
    "### Single-GPU training\n",
    "\n",
    "Now that we are familiar with transferring tensors to the GPU, we can modify our `training loop`. A typical training loop, to run on a GPU. This requires only changing three lines of code, as shown in code below:"
   ]
  },
  {
   "cell_type": "code",
   "execution_count": null,
   "id": "873db3a9",
   "metadata": {},
   "outputs": [],
   "source": [
    "import torch\n",
    "\n",
    "torch.manual_seed(123)\n",
    "model = NeuralNetwork(num_inputs=2, num_outputs=2)\n",
    "\n",
    "device = torch.device(\"mps\")\n",
    "model = model.to(device)\n",
    "\n",
    "optimizer = torch.optim.SGD(model.parameters(), lr=learning_rate)\n",
    "num_epochs = 3\n",
    "\n",
    "for epoch in range(num_epochs):\n",
    "    model.train()\n",
    "    for batch_index, (features, labels) in enumerate(train_loader):\n",
    "        features, labels = features.to(device), labels.to(device)\n",
    "        logits = model(features)\n",
    "        loss = F.cross_entropy(logits, labels)\n",
    "        \n",
    "        optimizer.zero_grad()\n",
    "        loss.backward()\n",
    "        optimizer.step()\n",
    "        \n",
    "        \n",
    "        # LOGGING\n",
    "        print(f\"Epoch: {epoch+1:03d}/{num_epochs:03d}\"\n",
    "            f\" | Batch {batch_index:03d}/{len(train_loader):03d}\"\n",
    "            f\" | Train Loss: {loss:.2f}\"         \n",
    "        )\n",
    "    \n",
    "    model.eval()"
   ]
  },
  {
   "cell_type": "code",
   "execution_count": null,
   "id": "e3b2eaf0",
   "metadata": {},
   "outputs": [],
   "source": []
  }
 ],
 "metadata": {
  "kernelspec": {
   "display_name": "venv (3.13.7)",
   "language": "python",
   "name": "python3"
  },
  "language_info": {
   "codemirror_mode": {
    "name": "ipython",
    "version": 3
   },
   "file_extension": ".py",
   "mimetype": "text/x-python",
   "name": "python",
   "nbconvert_exporter": "python",
   "pygments_lexer": "ipython3",
   "version": "3.11.13"
  }
 },
 "nbformat": 4,
 "nbformat_minor": 5
}
