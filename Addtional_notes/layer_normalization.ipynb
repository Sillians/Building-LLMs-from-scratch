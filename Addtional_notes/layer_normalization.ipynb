{
 "cells": [
  {
   "cell_type": "markdown",
   "id": "6a8b467e",
   "metadata": {},
   "source": [
    "# **Layer Normalization in Transformers**\n",
    "\n",
    "`Layer Normalization (LayerNorm)` is a normalization technique applied across the features of a single training example (not across the batch like BatchNorm). It rescales activations so that, for each token representation, the `mean` is `0` and `variance` is `1` before applying a learned affine transformation.\n",
    "\n",
    "\n",
    "In Transformers, it is crucial for stabilizing training, ensuring consistent scaling of hidden states through multiple stacked attention and feedforward layers."
   ]
  },
  {
   "cell_type": "markdown",
   "id": "a356fca9",
   "metadata": {},
   "source": [
    "### **Intuition**\n",
    "\n",
    "- Transformers stack dozens or hundreds of layers; without normalization, the distribution of hidden states can shift (called internal covariate shift).\n",
    "\n",
    "- LayerNorm ensures that at each step, token embeddings have controlled scale and distribution.\n",
    "\n",
    "- Unlike BatchNorm, LayerNorm doesn’t depend on batch statistics, so it works well for:\n",
    "  - Variable-length sequences\n",
    "\n",
    "  - Small batch sizes\n",
    "\n",
    "  - Autoregressive models where only one token is processed at inference.\n",
    "\n",
    "Think of it as re-centering and rescaling each `token’s feature vector` independently to keep training stable."
   ]
  },
  {
   "cell_type": "markdown",
   "id": "55038e76",
   "metadata": {},
   "source": [
    "### **Use Cases**\n",
    "\n",
    "- `Transformers (BERT, GPT, etc.):` almost every block applies LayerNorm before or after `attention/FFN`.\n",
    "\n",
    "- `RNNs / NLP models:` stabilizes hidden state dynamics.\n",
    "\n",
    "- `Reinforcement Learning:` reduces instability in policy/value function training.\n",
    "\n",
    "- `Small-batch or online training:` unlike BatchNorm, performance is consistent."
   ]
  },
  {
   "cell_type": "markdown",
   "id": "3ce517dd",
   "metadata": {},
   "source": [
    "### **Mathematical Representation**\n",
    "\n",
    "For a hidden state vector $x \\in \\mathbb{R}^d$ (features of a token at one layer):\n",
    "\n",
    "1. **Compute mean and variance** across the feature dimension:\n",
    "\n",
    "$$\\mu = \\frac{1}{d} \\sum_{i=1}^d x_i$$\n",
    "\n",
    "$$\\sigma^2 = \\frac{1}{d} \\sum_{i=1}^d (x_i - \\mu)^2$$\n",
    "\n",
    "\n",
    "2. **Normalize:**\n",
    "\n",
    "$$\\hat{x}_i = \\frac{x_i - \\mu}{\\sqrt{\\sigma^2 + \\epsilon}}$$\n",
    "\n",
    "\n",
    "3. **Scale and shift** with learned parameters $\\gamma, \\beta \\in \\mathbb{R}^d$:\n",
    "\n",
    "$$\\mathrm{LayerNorm}(x) = \\gamma \\odot \\hat{x} + \\beta$$\n",
    "\n",
    "\n",
    "Where:\n",
    "\n",
    "- $d$ = hidden dimension\n",
    "\n",
    "- $\\epsilon$ = small constant for stability\n",
    "\n",
    "- $\\odot$ = elementwise multiplication"
   ]
  },
  {
   "cell_type": "markdown",
   "id": "71fa8d16",
   "metadata": {},
   "source": [
    "**Basic PyTorch LayerNorm**"
   ]
  },
  {
   "cell_type": "code",
   "execution_count": 1,
   "id": "dd2e4b3e",
   "metadata": {},
   "outputs": [
    {
     "name": "stdout",
     "output_type": "stream",
     "text": [
      "torch.Size([2, 10, 512])\n"
     ]
    }
   ],
   "source": [
    "import torch\n",
    "import torch.nn as nn\n",
    "\n",
    "# Example: hidden dim = 512\n",
    "layer_norm = nn.LayerNorm(512)\n",
    "\n",
    "x = torch.randn(2, 10, 512)  # (batch, seq_len, hidden_dim)\n",
    "out = layer_norm(x)\n",
    "\n",
    "print(out.shape)  # (2, 10, 512)"
   ]
  },
  {
   "cell_type": "code",
   "execution_count": 4,
   "id": "b7272c6c",
   "metadata": {},
   "outputs": [
    {
     "data": {
      "text/plain": [
       "(tensor(-1.8626e-09, grad_fn=<MeanBackward0>),\n",
       " tensor(1.0001, grad_fn=<VarBackward0>))"
      ]
     },
     "execution_count": 4,
     "metadata": {},
     "output_type": "execute_result"
    }
   ],
   "source": [
    "out.mean(), out.var()"
   ]
  },
  {
   "cell_type": "markdown",
   "id": "27ab5f86",
   "metadata": {},
   "source": [
    "**Using LayerNorm in a Transformer Block**"
   ]
  },
  {
   "cell_type": "code",
   "execution_count": null,
   "id": "2acc4bc5",
   "metadata": {},
   "outputs": [
    {
     "name": "stdout",
     "output_type": "stream",
     "text": [
      "torch.Size([2, 10, 512])\n"
     ]
    }
   ],
   "source": [
    "import torch\n",
    "import torch.nn as nn\n",
    "\n",
    "class TransformerBlock(nn.Module):\n",
    "    def __init__(self, hidden_dim, num_heads, ff_dim):\n",
    "        super().__init__()\n",
    "        self.attention = nn.MultiheadAttention(hidden_dim, num_heads, batch_first=True)\n",
    "        self.layerNorm1 = nn.LayerNorm(hidden_dim)\n",
    "        self.feedforward = nn.Sequential(\n",
    "            nn.Linear(hidden_dim, ff_dim),\n",
    "            nn.ReLU(),\n",
    "            nn.Linear(ff_dim, hidden_dim)\n",
    "        )\n",
    "        self.layerNorm2 = nn.LayerNorm(hidden_dim)\n",
    "        \n",
    "    def forward(self, x:torch.Tensor):\n",
    "        # Self-attention + residual + norm\n",
    "        attn_out, _ = self.attention(x, x, x)\n",
    "        x = self.layerNorm1(x + attn_out)\n",
    "        \n",
    "        # Feed-forward + residual + norm\n",
    "        feedforward_output = self.feedforward(x)\n",
    "        x = self.layerNorm2(x + feedforward_output)\n",
    "        return x\n",
    "    \n",
    "x = torch.randn(2, 10, 512)  # (batch, seq_len, hidden_dim)\n",
    "block = TransformerBlock(hidden_dim=512, num_heads=8, ff_dim=2048)\n",
    "out = block(x)\n",
    "print(out.shape)  # (2, 10, 512)"
   ]
  },
  {
   "cell_type": "code",
   "execution_count": 12,
   "id": "60c122a3",
   "metadata": {},
   "outputs": [
    {
     "data": {
      "text/plain": [
       "tensor([[[-0.6516,  0.3798,  0.1604,  ...,  0.4044,  1.4573,  0.9570],\n",
       "         [ 1.3824,  0.8147,  2.1083,  ...,  0.5233, -0.6967, -0.1114],\n",
       "         [-0.5544, -0.0451,  0.2103,  ...,  1.1650,  0.8155,  0.4347],\n",
       "         ...,\n",
       "         [-0.5664, -0.4424,  1.0642,  ...,  1.2199,  0.2132,  0.1240],\n",
       "         [-0.3173,  0.2094,  0.7723,  ...,  0.3141,  0.0453, -0.8503],\n",
       "         [-0.0166, -1.3009,  1.5293,  ...,  1.0549,  1.1779, -0.1229]],\n",
       "\n",
       "        [[-1.6596, -0.6192,  1.4623,  ...,  2.2082, -0.5622, -0.3565],\n",
       "         [-1.3105, -2.4407, -0.8630,  ..., -0.5712, -0.5010, -0.4595],\n",
       "         [-0.7096, -0.2949,  0.6589,  ..., -1.1970,  2.0164,  2.2247],\n",
       "         ...,\n",
       "         [ 0.0427,  2.2328,  1.0938,  ...,  0.7347, -0.8213,  0.6817],\n",
       "         [ 0.4875,  0.1426,  0.5580,  ...,  1.4440,  0.0025,  0.0137],\n",
       "         [ 0.2994,  0.0944,  0.0350,  ..., -1.1914,  0.4151, -0.7845]]],\n",
       "       grad_fn=<NativeLayerNormBackward0>)"
      ]
     },
     "execution_count": 12,
     "metadata": {},
     "output_type": "execute_result"
    }
   ],
   "source": [
    "out"
   ]
  },
  {
   "cell_type": "code",
   "execution_count": 13,
   "id": "05571680",
   "metadata": {},
   "outputs": [
    {
     "data": {
      "text/plain": [
       "TransformerBlock(\n",
       "  (attention): MultiheadAttention(\n",
       "    (out_proj): NonDynamicallyQuantizableLinear(in_features=512, out_features=512, bias=True)\n",
       "  )\n",
       "  (layerNorm1): LayerNorm((512,), eps=1e-05, elementwise_affine=True)\n",
       "  (feedforward): Sequential(\n",
       "    (0): Linear(in_features=512, out_features=2048, bias=True)\n",
       "    (1): ReLU()\n",
       "    (2): Linear(in_features=2048, out_features=512, bias=True)\n",
       "  )\n",
       "  (layerNorm2): LayerNorm((512,), eps=1e-05, elementwise_affine=True)\n",
       ")"
      ]
     },
     "execution_count": 13,
     "metadata": {},
     "output_type": "execute_result"
    }
   ],
   "source": [
    "block"
   ]
  },
  {
   "cell_type": "markdown",
   "id": "36076102",
   "metadata": {},
   "source": [
    "**Hugging Face Transformers (BERT example)**"
   ]
  },
  {
   "cell_type": "code",
   "execution_count": 15,
   "id": "ebcd932c",
   "metadata": {},
   "outputs": [
    {
     "name": "stdout",
     "output_type": "stream",
     "text": [
      "LayerNorm((768,), eps=1e-12, elementwise_affine=True)\n"
     ]
    }
   ],
   "source": [
    "from transformers import AutoModel\n",
    "\n",
    "model = AutoModel.from_pretrained(\"bert-base-uncased\")\n",
    "print(model.encoder.layer[0].output.LayerNorm)  # LayerNorm inside Transformer block"
   ]
  },
  {
   "cell_type": "markdown",
   "id": "109fed75",
   "metadata": {},
   "source": [
    "### **Summary**\n",
    "\n",
    "- `Definition:` Normalizes per-token features for stability.\n",
    "\n",
    "- `Intuition:` Keeps hidden states well-scaled across deep stacks.\n",
    "\n",
    "- `Use cases:` Transformers, NLP, RL, small-batch training.\n",
    "\n",
    "- `Mathematics:` Normalize → scale → shift with learned $\\gamma, \\beta$.\n",
    "\n",
    "- `Code:` Built-in as nn.LayerNorm in PyTorch, used in every Transformer block."
   ]
  },
  {
   "cell_type": "code",
   "execution_count": null,
   "id": "50416865",
   "metadata": {},
   "outputs": [],
   "source": []
  }
 ],
 "metadata": {
  "kernelspec": {
   "display_name": "venv (3.11.13)",
   "language": "python",
   "name": "python3"
  },
  "language_info": {
   "codemirror_mode": {
    "name": "ipython",
    "version": 3
   },
   "file_extension": ".py",
   "mimetype": "text/x-python",
   "name": "python",
   "nbconvert_exporter": "python",
   "pygments_lexer": "ipython3",
   "version": "3.11.13"
  }
 },
 "nbformat": 4,
 "nbformat_minor": 5
}
