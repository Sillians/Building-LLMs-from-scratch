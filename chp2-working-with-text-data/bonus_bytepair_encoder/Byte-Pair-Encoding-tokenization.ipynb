{
 "cells": [
  {
   "cell_type": "markdown",
   "id": "7c9aeab0",
   "metadata": {},
   "source": [
    "## Byte-Pair Encoding tokenization\n",
    "\n",
    "Byte-Pair Encoding (BPE) was initially developed as an algorithm to compress texts, and then used by OpenAI for tokenization when pretraining the GPT model. It’s used by a lot of Transformer models, including `GPT`, `GPT-2`, `RoBERTa`, `BART`, and `DeBERTa`.\n",
    "\n",
    "\n",
    "### Training algorithm\n",
    "\n",
    "BPE training starts by computing the unique set of words used in the corpus (after the normalization and pre-tokenization steps are completed), then building the vocabulary by taking all the symbols used to write those words. As a very simple example, let’s say our corpus uses these five words:\n",
    "\n",
    "```\n",
    "\"hug\", \"pug\", \"pun\", \"bun\", \"hugs\"\n",
    "```\n",
    "\n",
    "The base vocabulary will then be `[\"b\", \"g\", \"h\", \"n\", \"p\", \"s\", \"u\"]`. For real-world cases, that base vocabulary will contain all the ASCII characters, at the very least, and probably some Unicode characters as well. If an example you are tokenizing uses a character that is not in the training corpus, that character will be converted to the unknown token. That’s one reason why lots of NLP models are very bad at analyzing content with emojis, for instance.\n",
    "\n",
    "After getting this base vocabulary, we add new tokens until the desired vocabulary size is reached by learning merges, which are rules to merge two elements of the existing vocabulary together into a new one. So, at the beginning these merges will create tokens with two characters, and then, as training progresses, longer subwords.\n",
    "\n",
    "At any step during the tokenizer training, the BPE algorithm will search for the most frequent pair of existing tokens (by “pair,” here we mean two consecutive tokens in a word). That most frequent pair is the one that will be merged, and we rinse and repeat for the next step.\n",
    "\n",
    "\n",
    "Going back to our previous example, let’s assume the words had the following frequencies:\n",
    "```\n",
    "(\"hug\", 10), (\"pug\", 5), (\"pun\", 12), (\"bun\", 4), (\"hugs\", 5)\n",
    "```\n",
    "\n",
    "meaning \"hug\" was present 10 times in the corpus, \"pug\" 5 times, \"pun\" 12 times, \"bun\" 4 times, and \"hugs\" 5 times. We start the training by splitting each word into characters (the ones that form our initial vocabulary) so we can see each word as a list of tokens:\n",
    "```\n",
    "(\"h\" \"u\" \"g\", 10), (\"p\" \"u\" \"g\", 5), (\"p\" \"u\" \"n\", 12), (\"b\" \"u\" \"n\", 4), (\"h\" \"u\" \"g\" \"s\", 5)\n",
    "```\n",
    "\n",
    "Then we look at pairs. The pair (\"h\", \"u\") is present in the words \"hug\" and \"hugs\", so 15 times total in the corpus. It’s not the most frequent pair, though: that honor belongs to (\"u\", \"g\"), which is present in \"hug\", \"pug\", and \"hugs\", for a grand total of 20 times in the vocabulary.\n",
    "\n",
    "Thus, the first merge rule learned by the tokenizer is (\"u\", \"g\") -> \"ug\", which means that \"ug\" will be added to the vocabulary, and the pair should be merged in all the words of the corpus. At the end of this stage, the vocabulary and corpus look like this:\n",
    "```\n",
    "Vocabulary: [\"b\", \"g\", \"h\", \"n\", \"p\", \"s\", \"u\", \"ug\"]\n",
    "Corpus: (\"h\" \"ug\", 10), (\"p\" \"ug\", 5), (\"p\" \"u\" \"n\", 12), (\"b\" \"u\" \"n\", 4), (\"h\" \"ug\" \"s\", 5)\n",
    "```\n",
    "\n",
    "Now we have some pairs that result in a token longer than two characters: the pair `(\"h\", \"ug\")`, for instance (present 15 times in the corpus). The most frequent pair at this stage is `(\"u\", \"n\")`, however, present 16 times in the corpus, so the second merge rule learned is `(\"u\", \"n\") -> \"un\"`. Adding that to the vocabulary and merging all existing occurrences leads us to:\n",
    "```\n",
    "Vocabulary: [\"b\", \"g\", \"h\", \"n\", \"p\", \"s\", \"u\", \"ug\", \"un\"]\n",
    "Corpus: (\"h\" \"ug\", 10), (\"p\" \"ug\", 5), (\"p\" \"un\", 12), (\"b\" \"un\", 4), (\"h\" \"ug\" \"s\", 5)\n",
    "```\n",
    "\n",
    "Now the most frequent pair is (\"h\", \"ug\"), so we learn the merge rule `(\"h\", \"ug\") -> \"hug\"`, which gives us our first three-letter token. After the merge, the corpus looks like this:\n",
    "```\n",
    "Vocabulary: [\"b\", \"g\", \"h\", \"n\", \"p\", \"s\", \"u\", \"ug\", \"un\", \"hug\"]\n",
    "Corpus: (\"hug\", 10), (\"p\" \"ug\", 5), (\"p\" \"un\", 12), (\"b\" \"un\", 4), (\"hug\" \"s\", 5)\n",
    "```\n",
    "\n",
    "And we continue like this until we reach the desired vocabulary size."
   ]
  },
  {
   "cell_type": "markdown",
   "id": "65201564",
   "metadata": {},
   "source": [
    "## Tokenization algorithm\n",
    "\n",
    "Tokenization follows the training process closely, in the sense that new inputs are tokenized by applying the following steps:\n",
    "\n",
    "1. Normalization\n",
    "   \n",
    "2. Pre-tokenization\n",
    "   \n",
    "3. Splitting the words into individual characters\n",
    "   \n",
    "4. Applying the merge rules learned in order on those splits\n",
    "\n",
    "\n",
    "Let’s take the example we used during training, with the three merge rules learned:\n",
    "```\n",
    "(\"u\", \"g\") -> \"ug\"\n",
    "(\"u\", \"n\") -> \"un\"\n",
    "(\"h\", \"ug\") -> \"hug\"\n",
    "```\n",
    "\n",
    "The word `\"bug\"` will be tokenized as `[\"b\", \"ug\"]`. `\"mug\"`, however, will be tokenized as `[\"[UNK]\", \"ug\"]` since the letter `\"m\"` was not in the base vocabulary. Likewise, the word `\"thug\"` will be tokenized as `[\"[UNK]\", \"hug\"]`: the letter `\"t\"` is not in the base vocabulary, and applying the merge rules results first in `\"u\"` and `\"g\"` being merged and then `\"h\"` and `\"ug\"` being merged."
   ]
  },
  {
   "cell_type": "markdown",
   "id": "e4ca8785",
   "metadata": {},
   "source": [
    "## Implementing BPE\n",
    "\n",
    "Now let’s take a look at an implementation of the BPE algorithm. This won’t be an optimized version you can actually use on a big corpus; we just want to show you the code so you can understand the algorithm a little bit better.\n",
    "\n",
    "First we need a corpus, so let’s create a simple one with a few sentences:\n"
   ]
  },
  {
   "cell_type": "code",
   "execution_count": 1,
   "id": "3b471473",
   "metadata": {},
   "outputs": [],
   "source": [
    "corpus = [\n",
    "    \"This is the Hugging Face Course.\",\n",
    "    \"This chapter is about tokenization.\",\n",
    "    \"This section shows several tokenizer algorithms.\",\n",
    "    \"Hopefully, you will be able to understand how they are trained and generate tokens.\",\n",
    "]"
   ]
  },
  {
   "cell_type": "markdown",
   "id": "3abc84fd",
   "metadata": {},
   "source": [
    "Next, we need to pre-tokenize that corpus into words. Since we are replicating a BPE tokenizer (like GPT-2), we will use the gpt2 tokenizer for the pre-tokenization:"
   ]
  },
  {
   "cell_type": "code",
   "execution_count": 3,
   "id": "a653dc37",
   "metadata": {},
   "outputs": [],
   "source": [
    "from transformers import AutoTokenizer\n",
    "\n",
    "tokenizer = AutoTokenizer.from_pretrained(\"gpt2\")"
   ]
  },
  {
   "cell_type": "markdown",
   "id": "37bbe21c",
   "metadata": {},
   "source": [
    "Then we compute the frequencies of each word in the corpus as we do the pre-tokenization:"
   ]
  },
  {
   "cell_type": "code",
   "execution_count": 9,
   "id": "9c0eecd6",
   "metadata": {},
   "outputs": [
    {
     "name": "stdout",
     "output_type": "stream",
     "text": [
      "defaultdict(<class 'int'>, {'This': 3, 'Ġis': 2, 'Ġthe': 1, 'ĠHugging': 1, 'ĠFace': 1, 'ĠCourse': 1, '.': 4, 'Ġchapter': 1, 'Ġabout': 1, 'Ġtokenization': 1, 'Ġsection': 1, 'Ġshows': 1, 'Ġseveral': 1, 'Ġtokenizer': 1, 'Ġalgorithms': 1, 'Hopefully': 1, ',': 1, 'Ġyou': 1, 'Ġwill': 1, 'Ġbe': 1, 'Ġable': 1, 'Ġto': 1, 'Ġunderstand': 1, 'Ġhow': 1, 'Ġthey': 1, 'Ġare': 1, 'Ġtrained': 1, 'Ġand': 1, 'Ġgenerate': 1, 'Ġtokens': 1})\n"
     ]
    }
   ],
   "source": [
    "from collections import defaultdict\n",
    "\n",
    "word_freqs = defaultdict(int)\n",
    "\n",
    "for text in corpus:\n",
    "    words_with_offsets = tokenizer.backend_tokenizer.pre_tokenizer.pre_tokenize_str(text)\n",
    "    new_words = [word for word, offset in words_with_offsets]\n",
    "    for word in new_words:\n",
    "        word_freqs[word] += 1\n",
    "\n",
    "print(word_freqs)"
   ]
  },
  {
   "cell_type": "markdown",
   "id": "8244cc51",
   "metadata": {},
   "source": [
    "The next step is to compute the base vocabulary, formed by all the characters used in the corpus:\n"
   ]
  },
  {
   "cell_type": "code",
   "execution_count": 12,
   "id": "61e8b9c0",
   "metadata": {},
   "outputs": [
    {
     "data": {
      "text/plain": [
       "(dict_keys(['This', 'Ġis', 'Ġthe', 'ĠHugging', 'ĠFace', 'ĠCourse', '.', 'Ġchapter', 'Ġabout', 'Ġtokenization', 'Ġsection', 'Ġshows', 'Ġseveral', 'Ġtokenizer', 'Ġalgorithms', 'Hopefully', ',', 'Ġyou', 'Ġwill', 'Ġbe', 'Ġable', 'Ġto', 'Ġunderstand', 'Ġhow', 'Ġthey', 'Ġare', 'Ġtrained', 'Ġand', 'Ġgenerate', 'Ġtokens']),\n",
       " dict_values([3, 2, 1, 1, 1, 1, 4, 1, 1, 1, 1, 1, 1, 1, 1, 1, 1, 1, 1, 1, 1, 1, 1, 1, 1, 1, 1, 1, 1, 1]))"
      ]
     },
     "execution_count": 12,
     "metadata": {},
     "output_type": "execute_result"
    }
   ],
   "source": [
    "word_freqs.keys(), word_freqs.values()"
   ]
  },
  {
   "cell_type": "code",
   "execution_count": 13,
   "id": "661ce0f1",
   "metadata": {},
   "outputs": [
    {
     "name": "stdout",
     "output_type": "stream",
     "text": [
      "This\n",
      "Ġis\n",
      "Ġthe\n",
      "ĠHugging\n",
      "ĠFace\n",
      "ĠCourse\n",
      ".\n",
      "Ġchapter\n",
      "Ġabout\n",
      "Ġtokenization\n",
      "Ġsection\n",
      "Ġshows\n",
      "Ġseveral\n",
      "Ġtokenizer\n",
      "Ġalgorithms\n",
      "Hopefully\n",
      ",\n",
      "Ġyou\n",
      "Ġwill\n",
      "Ġbe\n",
      "Ġable\n",
      "Ġto\n",
      "Ġunderstand\n",
      "Ġhow\n",
      "Ġthey\n",
      "Ġare\n",
      "Ġtrained\n",
      "Ġand\n",
      "Ġgenerate\n",
      "Ġtokens\n"
     ]
    }
   ],
   "source": [
    "for word in word_freqs.keys():\n",
    "    print(word)"
   ]
  },
  {
   "cell_type": "code",
   "execution_count": 10,
   "id": "f3ef1548",
   "metadata": {},
   "outputs": [
    {
     "name": "stdout",
     "output_type": "stream",
     "text": [
      "[',', '.', 'C', 'F', 'H', 'T', 'a', 'b', 'c', 'd', 'e', 'f', 'g', 'h', 'i', 'k', 'l', 'm', 'n', 'o', 'p', 'r', 's', 't', 'u', 'v', 'w', 'y', 'z', 'Ġ']\n"
     ]
    }
   ],
   "source": [
    "alphabet = []\n",
    "\n",
    "for word in word_freqs.keys():\n",
    "    for letter in word:\n",
    "        if letter not in alphabet:\n",
    "            alphabet.append(letter)\n",
    "alphabet.sort()\n",
    "\n",
    "print(alphabet)"
   ]
  },
  {
   "cell_type": "markdown",
   "id": "04d89026",
   "metadata": {},
   "source": [
    "We also add the special tokens used by the model at the beginning of that vocabulary. In the case of GPT-2, the only special token is `\"<|endoftext|>\"`:"
   ]
  },
  {
   "cell_type": "code",
   "execution_count": 15,
   "id": "c5f81bd2",
   "metadata": {},
   "outputs": [],
   "source": [
    "vocab = [\"<|endoftext|>\"] + alphabet.copy()"
   ]
  },
  {
   "cell_type": "code",
   "execution_count": 16,
   "id": "0ec035dd",
   "metadata": {},
   "outputs": [
    {
     "data": {
      "text/plain": [
       "['<|endoftext|>',\n",
       " ',',\n",
       " '.',\n",
       " 'C',\n",
       " 'F',\n",
       " 'H',\n",
       " 'T',\n",
       " 'a',\n",
       " 'b',\n",
       " 'c',\n",
       " 'd',\n",
       " 'e',\n",
       " 'f',\n",
       " 'g',\n",
       " 'h',\n",
       " 'i',\n",
       " 'k',\n",
       " 'l',\n",
       " 'm',\n",
       " 'n',\n",
       " 'o',\n",
       " 'p',\n",
       " 'r',\n",
       " 's',\n",
       " 't',\n",
       " 'u',\n",
       " 'v',\n",
       " 'w',\n",
       " 'y',\n",
       " 'z',\n",
       " 'Ġ']"
      ]
     },
     "execution_count": 16,
     "metadata": {},
     "output_type": "execute_result"
    }
   ],
   "source": [
    "vocab"
   ]
  },
  {
   "cell_type": "markdown",
   "id": "4f4ce138",
   "metadata": {},
   "source": [
    "We now need to split each word into individual characters, to be able to start training:"
   ]
  },
  {
   "cell_type": "code",
   "execution_count": 17,
   "id": "fc03e823",
   "metadata": {},
   "outputs": [],
   "source": [
    "splits = {word: [c for c in word] for word in word_freqs.keys()}"
   ]
  },
  {
   "cell_type": "code",
   "execution_count": 18,
   "id": "6c83a531",
   "metadata": {},
   "outputs": [
    {
     "data": {
      "text/plain": [
       "{'This': ['T', 'h', 'i', 's'],\n",
       " 'Ġis': ['Ġ', 'i', 's'],\n",
       " 'Ġthe': ['Ġ', 't', 'h', 'e'],\n",
       " 'ĠHugging': ['Ġ', 'H', 'u', 'g', 'g', 'i', 'n', 'g'],\n",
       " 'ĠFace': ['Ġ', 'F', 'a', 'c', 'e'],\n",
       " 'ĠCourse': ['Ġ', 'C', 'o', 'u', 'r', 's', 'e'],\n",
       " '.': ['.'],\n",
       " 'Ġchapter': ['Ġ', 'c', 'h', 'a', 'p', 't', 'e', 'r'],\n",
       " 'Ġabout': ['Ġ', 'a', 'b', 'o', 'u', 't'],\n",
       " 'Ġtokenization': ['Ġ',\n",
       "  't',\n",
       "  'o',\n",
       "  'k',\n",
       "  'e',\n",
       "  'n',\n",
       "  'i',\n",
       "  'z',\n",
       "  'a',\n",
       "  't',\n",
       "  'i',\n",
       "  'o',\n",
       "  'n'],\n",
       " 'Ġsection': ['Ġ', 's', 'e', 'c', 't', 'i', 'o', 'n'],\n",
       " 'Ġshows': ['Ġ', 's', 'h', 'o', 'w', 's'],\n",
       " 'Ġseveral': ['Ġ', 's', 'e', 'v', 'e', 'r', 'a', 'l'],\n",
       " 'Ġtokenizer': ['Ġ', 't', 'o', 'k', 'e', 'n', 'i', 'z', 'e', 'r'],\n",
       " 'Ġalgorithms': ['Ġ', 'a', 'l', 'g', 'o', 'r', 'i', 't', 'h', 'm', 's'],\n",
       " 'Hopefully': ['H', 'o', 'p', 'e', 'f', 'u', 'l', 'l', 'y'],\n",
       " ',': [','],\n",
       " 'Ġyou': ['Ġ', 'y', 'o', 'u'],\n",
       " 'Ġwill': ['Ġ', 'w', 'i', 'l', 'l'],\n",
       " 'Ġbe': ['Ġ', 'b', 'e'],\n",
       " 'Ġable': ['Ġ', 'a', 'b', 'l', 'e'],\n",
       " 'Ġto': ['Ġ', 't', 'o'],\n",
       " 'Ġunderstand': ['Ġ', 'u', 'n', 'd', 'e', 'r', 's', 't', 'a', 'n', 'd'],\n",
       " 'Ġhow': ['Ġ', 'h', 'o', 'w'],\n",
       " 'Ġthey': ['Ġ', 't', 'h', 'e', 'y'],\n",
       " 'Ġare': ['Ġ', 'a', 'r', 'e'],\n",
       " 'Ġtrained': ['Ġ', 't', 'r', 'a', 'i', 'n', 'e', 'd'],\n",
       " 'Ġand': ['Ġ', 'a', 'n', 'd'],\n",
       " 'Ġgenerate': ['Ġ', 'g', 'e', 'n', 'e', 'r', 'a', 't', 'e'],\n",
       " 'Ġtokens': ['Ġ', 't', 'o', 'k', 'e', 'n', 's']}"
      ]
     },
     "execution_count": 18,
     "metadata": {},
     "output_type": "execute_result"
    }
   ],
   "source": [
    "splits"
   ]
  },
  {
   "cell_type": "markdown",
   "id": "ac4751c3",
   "metadata": {},
   "source": [
    "Now that we are ready for training, let’s write a function that computes the frequency of each pair. We’ll need to use this at each step of the training:"
   ]
  },
  {
   "cell_type": "code",
   "execution_count": 24,
   "id": "02c5614a",
   "metadata": {},
   "outputs": [
    {
     "data": {
      "text/plain": [
       "dict_items([('This', 3), ('Ġis', 2), ('Ġthe', 1), ('ĠHugging', 1), ('ĠFace', 1), ('ĠCourse', 1), ('.', 4), ('Ġchapter', 1), ('Ġabout', 1), ('Ġtokenization', 1), ('Ġsection', 1), ('Ġshows', 1), ('Ġseveral', 1), ('Ġtokenizer', 1), ('Ġalgorithms', 1), ('Hopefully', 1), (',', 1), ('Ġyou', 1), ('Ġwill', 1), ('Ġbe', 1), ('Ġable', 1), ('Ġto', 1), ('Ġunderstand', 1), ('Ġhow', 1), ('Ġthey', 1), ('Ġare', 1), ('Ġtrained', 1), ('Ġand', 1), ('Ġgenerate', 1), ('Ġtokens', 1)])"
      ]
     },
     "execution_count": 24,
     "metadata": {},
     "output_type": "execute_result"
    }
   ],
   "source": [
    "word_freqs.items()"
   ]
  },
  {
   "cell_type": "code",
   "execution_count": 67,
   "id": "7e0cdae1",
   "metadata": {},
   "outputs": [
    {
     "name": "stdout",
     "output_type": "stream",
     "text": [
      "3\n",
      "['T', 'h', 'i', 's']\n",
      "range(0, 4)\n",
      "2\n",
      "['Ġ', 'i', 's']\n",
      "range(0, 3)\n",
      "1\n",
      "['Ġ', 't', 'h', 'e']\n",
      "range(0, 4)\n",
      "1\n",
      "['Ġ', 'H', 'u', 'g', 'g', 'i', 'n', 'g']\n",
      "range(0, 8)\n",
      "1\n",
      "['Ġ', 'F', 'a', 'c', 'e']\n",
      "range(0, 5)\n",
      "1\n",
      "['Ġ', 'C', 'o', 'u', 'r', 's', 'e']\n",
      "range(0, 7)\n",
      "4\n",
      "['.']\n",
      "range(0, 1)\n",
      "1\n",
      "['Ġ', 'c', 'h', 'a', 'p', 't', 'e', 'r']\n",
      "range(0, 8)\n",
      "1\n",
      "['Ġ', 'a', 'b', 'o', 'u', 't']\n",
      "range(0, 6)\n",
      "1\n",
      "['Ġ', 't', 'o', 'k', 'e', 'n', 'i', 'z', 'a', 't', 'i', 'o', 'n']\n",
      "range(0, 13)\n",
      "1\n",
      "['Ġ', 's', 'e', 'c', 't', 'i', 'o', 'n']\n",
      "range(0, 8)\n",
      "1\n",
      "['Ġ', 's', 'h', 'o', 'w', 's']\n",
      "range(0, 6)\n",
      "1\n",
      "['Ġ', 's', 'e', 'v', 'e', 'r', 'a', 'l']\n",
      "range(0, 8)\n",
      "1\n",
      "['Ġ', 't', 'o', 'k', 'e', 'n', 'i', 'z', 'e', 'r']\n",
      "range(0, 10)\n",
      "1\n",
      "['Ġ', 'a', 'l', 'g', 'o', 'r', 'i', 't', 'h', 'm', 's']\n",
      "range(0, 11)\n",
      "1\n",
      "['H', 'o', 'p', 'e', 'f', 'u', 'l', 'l', 'y']\n",
      "range(0, 9)\n",
      "1\n",
      "[',']\n",
      "range(0, 1)\n",
      "1\n",
      "['Ġ', 'y', 'o', 'u']\n",
      "range(0, 4)\n",
      "1\n",
      "['Ġ', 'w', 'i', 'l', 'l']\n",
      "range(0, 5)\n",
      "1\n",
      "['Ġ', 'b', 'e']\n",
      "range(0, 3)\n",
      "1\n",
      "['Ġ', 'a', 'b', 'l', 'e']\n",
      "range(0, 5)\n",
      "1\n",
      "['Ġ', 't', 'o']\n",
      "range(0, 3)\n",
      "1\n",
      "['Ġ', 'u', 'n', 'd', 'e', 'r', 's', 't', 'a', 'n', 'd']\n",
      "range(0, 11)\n",
      "1\n",
      "['Ġ', 'h', 'o', 'w']\n",
      "range(0, 4)\n",
      "1\n",
      "['Ġ', 't', 'h', 'e', 'y']\n",
      "range(0, 5)\n",
      "1\n",
      "['Ġ', 'a', 'r', 'e']\n",
      "range(0, 4)\n",
      "1\n",
      "['Ġ', 't', 'r', 'a', 'i', 'n', 'e', 'd']\n",
      "range(0, 8)\n",
      "1\n",
      "['Ġ', 'a', 'n', 'd']\n",
      "range(0, 4)\n",
      "1\n",
      "['Ġ', 'g', 'e', 'n', 'e', 'r', 'a', 't', 'e']\n",
      "range(0, 9)\n",
      "1\n",
      "['Ġ', 't', 'o', 'k', 'e', 'n', 's']\n",
      "range(0, 7)\n"
     ]
    }
   ],
   "source": [
    "pair_freqs = defaultdict(int)\n",
    "for word, freq in word_freqs.items():\n",
    "    split = splits[word]\n",
    "    print(freq)\n",
    "    print(split)\n",
    "    print(range(len(split)))"
   ]
  },
  {
   "cell_type": "code",
   "execution_count": 65,
   "id": "d78826c9",
   "metadata": {},
   "outputs": [],
   "source": [
    "for i in range(len(split) - 1):\n",
    "    pair = (split[i], split[i + 1])\n",
    "    pair_freqs[pair] += freq"
   ]
  },
  {
   "cell_type": "code",
   "execution_count": 66,
   "id": "968dd45b",
   "metadata": {},
   "outputs": [
    {
     "data": {
      "text/plain": [
       "defaultdict(int,\n",
       "            {('Ġ', 't'): 1,\n",
       "             ('t', 'o'): 1,\n",
       "             ('o', 'k'): 1,\n",
       "             ('k', 'e'): 1,\n",
       "             ('e', 'n'): 1,\n",
       "             ('n', 's'): 1})"
      ]
     },
     "execution_count": 66,
     "metadata": {},
     "output_type": "execute_result"
    }
   ],
   "source": [
    "pair_freqs"
   ]
  },
  {
   "cell_type": "code",
   "execution_count": 68,
   "id": "36608f07",
   "metadata": {},
   "outputs": [],
   "source": [
    "def compute_pair_freqs(splits):\n",
    "    pair_freqs = defaultdict(int)\n",
    "    for word, freq in word_freqs.items():\n",
    "        split = splits[word]\n",
    "        if len(split) == 1:\n",
    "            continue\n",
    "        for i in range(len(split) - 1):\n",
    "            pair = (split[i], split[i + 1])\n",
    "            pair_freqs[pair] += freq\n",
    "    return pair_freqs"
   ]
  },
  {
   "cell_type": "markdown",
   "id": "2f6d7a0e",
   "metadata": {},
   "source": [
    "Let’s have a look at a part of this dictionary after the initial splits:"
   ]
  },
  {
   "cell_type": "code",
   "execution_count": 69,
   "id": "ca739b05",
   "metadata": {},
   "outputs": [
    {
     "name": "stdout",
     "output_type": "stream",
     "text": [
      "('T', 'h'): 3\n",
      "('h', 'i'): 3\n",
      "('i', 's'): 5\n",
      "('Ġ', 'i'): 2\n",
      "('Ġ', 't'): 7\n",
      "('t', 'h'): 3\n"
     ]
    }
   ],
   "source": [
    "pair_freqs = compute_pair_freqs(splits)\n",
    "\n",
    "for i, key in enumerate(pair_freqs.keys()):\n",
    "    print(f\"{key}: {pair_freqs[key]}\")\n",
    "    if i >= 5:\n",
    "        break"
   ]
  },
  {
   "cell_type": "markdown",
   "id": "a005540a",
   "metadata": {},
   "source": [
    "Now, finding the most frequent pair only takes a quick loop:"
   ]
  },
  {
   "cell_type": "code",
   "execution_count": 99,
   "id": "ab330994",
   "metadata": {},
   "outputs": [
    {
     "name": "stdout",
     "output_type": "stream",
     "text": [
      "('T', 'h') 3\n",
      "('h', 'i') 3\n",
      "('i', 's') 5\n",
      "('Ġ', 'i') 2\n",
      "('Ġ', 't') 7\n",
      "('t', 'h') 3\n",
      "('h', 'e') 2\n",
      "('Ġ', 'H') 1\n",
      "('H', 'u') 1\n",
      "('u', 'g') 1\n",
      "('g', 'g') 1\n",
      "('g', 'i') 1\n",
      "('i', 'n') 2\n",
      "('n', 'g') 1\n",
      "('Ġ', 'F') 1\n",
      "('F', 'a') 1\n",
      "('a', 'c') 1\n",
      "('c', 'e') 1\n",
      "('Ġ', 'C') 1\n",
      "('C', 'o') 1\n",
      "('o', 'u') 3\n",
      "('u', 'r') 1\n",
      "('r', 's') 2\n",
      "('s', 'e') 3\n",
      "('Ġ', 'c') 1\n",
      "('c', 'h') 1\n",
      "('h', 'a') 1\n",
      "('a', 'p') 1\n",
      "('p', 't') 1\n",
      "('t', 'e') 2\n",
      "('e', 'r') 5\n",
      "('Ġ', 'a') 5\n",
      "('a', 'b') 2\n",
      "('b', 'o') 1\n",
      "('u', 't') 1\n",
      "('t', 'o') 4\n",
      "('o', 'k') 3\n",
      "('k', 'e') 3\n",
      "('e', 'n') 4\n",
      "('n', 'i') 2\n",
      "('i', 'z') 2\n",
      "('z', 'a') 1\n",
      "('a', 't') 2\n",
      "('t', 'i') 2\n",
      "('i', 'o') 2\n",
      "('o', 'n') 2\n",
      "('Ġ', 's') 3\n",
      "('e', 'c') 1\n",
      "('c', 't') 1\n",
      "('s', 'h') 1\n",
      "('h', 'o') 2\n",
      "('o', 'w') 2\n",
      "('w', 's') 1\n",
      "('e', 'v') 1\n",
      "('v', 'e') 1\n",
      "('r', 'a') 3\n",
      "('a', 'l') 2\n",
      "('z', 'e') 1\n",
      "('l', 'g') 1\n",
      "('g', 'o') 1\n",
      "('o', 'r') 1\n",
      "('r', 'i') 1\n",
      "('i', 't') 1\n",
      "('h', 'm') 1\n",
      "('m', 's') 1\n",
      "('H', 'o') 1\n",
      "('o', 'p') 1\n",
      "('p', 'e') 1\n",
      "('e', 'f') 1\n",
      "('f', 'u') 1\n",
      "('u', 'l') 1\n",
      "('l', 'l') 2\n",
      "('l', 'y') 1\n",
      "('Ġ', 'y') 1\n",
      "('y', 'o') 1\n",
      "('Ġ', 'w') 1\n",
      "('w', 'i') 1\n",
      "('i', 'l') 1\n",
      "('Ġ', 'b') 1\n",
      "('b', 'e') 1\n",
      "('b', 'l') 1\n",
      "('l', 'e') 1\n",
      "('Ġ', 'u') 1\n",
      "('u', 'n') 1\n",
      "('n', 'd') 3\n",
      "('d', 'e') 1\n",
      "('s', 't') 1\n",
      "('t', 'a') 1\n",
      "('a', 'n') 2\n",
      "('Ġ', 'h') 1\n",
      "('e', 'y') 1\n",
      "('a', 'r') 1\n",
      "('r', 'e') 1\n",
      "('t', 'r') 1\n",
      "('a', 'i') 1\n",
      "('n', 'e') 2\n",
      "('e', 'd') 1\n",
      "('Ġ', 'g') 1\n",
      "('g', 'e') 1\n",
      "('n', 's') 1\n"
     ]
    }
   ],
   "source": [
    "for pair, freq in pair_freqs.items():\n",
    "    print(pair, freq)"
   ]
  },
  {
   "cell_type": "code",
   "execution_count": 100,
   "id": "1973bf35",
   "metadata": {},
   "outputs": [
    {
     "name": "stdout",
     "output_type": "stream",
     "text": [
      "('Ġ', 't') 7\n"
     ]
    }
   ],
   "source": [
    "best_pair = \"\"\n",
    "max_freq = None\n",
    "\n",
    "for pair, freq in pair_freqs.items():\n",
    "    if max_freq is None or max_freq < freq:\n",
    "        best_pair = pair\n",
    "        max_freq = freq\n",
    "\n",
    "print(best_pair, max_freq)      "
   ]
  },
  {
   "cell_type": "markdown",
   "id": "19367d23",
   "metadata": {},
   "source": [
    "So the first merge to learn is `('Ġ', 't') -> 'Ġt'`, and we add 'Ġt' to the vocabulary:"
   ]
  },
  {
   "cell_type": "code",
   "execution_count": 101,
   "id": "57d6b25a",
   "metadata": {},
   "outputs": [],
   "source": [
    "merges = {(\"Ġ\", \"t\"): \"Ġt\"}\n",
    "vocab.append(\"Ġt\")"
   ]
  },
  {
   "cell_type": "code",
   "execution_count": 102,
   "id": "9f4f4e80",
   "metadata": {},
   "outputs": [
    {
     "data": {
      "text/plain": [
       "['<|endoftext|>',\n",
       " ',',\n",
       " '.',\n",
       " 'C',\n",
       " 'F',\n",
       " 'H',\n",
       " 'T',\n",
       " 'a',\n",
       " 'b',\n",
       " 'c',\n",
       " 'd',\n",
       " 'e',\n",
       " 'f',\n",
       " 'g',\n",
       " 'h',\n",
       " 'i',\n",
       " 'k',\n",
       " 'l',\n",
       " 'm',\n",
       " 'n',\n",
       " 'o',\n",
       " 'p',\n",
       " 'r',\n",
       " 's',\n",
       " 't',\n",
       " 'u',\n",
       " 'v',\n",
       " 'w',\n",
       " 'y',\n",
       " 'z',\n",
       " 'Ġ',\n",
       " 'Ġt']"
      ]
     },
     "execution_count": 102,
     "metadata": {},
     "output_type": "execute_result"
    }
   ],
   "source": [
    "vocab"
   ]
  },
  {
   "cell_type": "markdown",
   "id": "7a45c8ec",
   "metadata": {},
   "source": [
    "To continue, we need to apply that merge in our splits dictionary. Let’s write another function for this:"
   ]
  },
  {
   "cell_type": "code",
   "execution_count": 103,
   "id": "a73df4df",
   "metadata": {},
   "outputs": [],
   "source": [
    "def merge_pair(a, b, splits):\n",
    "    for word in word_freqs:\n",
    "        split = splits[word]\n",
    "        if len(split) == 1:\n",
    "            continue\n",
    "        \n",
    "        i = 0\n",
    "        while i < len(split) - 1:\n",
    "            if split[i] == a and split[i + 1] == b:\n",
    "                split = split[:i] + [a + b] + split[i + 2 :]\n",
    "            else:\n",
    "                i += 1\n",
    "        splits[word] = split\n",
    "    return splits"
   ]
  },
  {
   "cell_type": "markdown",
   "id": "c99d3935",
   "metadata": {},
   "source": [
    "And we can have a look at the result of the first merge:"
   ]
  },
  {
   "cell_type": "code",
   "execution_count": 122,
   "id": "044e3d8c",
   "metadata": {},
   "outputs": [
    {
     "name": "stdout",
     "output_type": "stream",
     "text": [
      "['Ġ', 't', 'r', 'a', 'i', 'n', 'e', 'd']\n"
     ]
    }
   ],
   "source": [
    "splits = merge_pair(\"G\", \"t\", splits)\n",
    "print(splits[\"Ġtrained\"])"
   ]
  },
  {
   "cell_type": "markdown",
   "id": "f66062eb",
   "metadata": {},
   "source": [
    "Now we have everything we need to loop until we have learned all the merges we want. Let’s aim for a vocab size of 50:"
   ]
  },
  {
   "cell_type": "code",
   "execution_count": 125,
   "id": "a86c5fc7",
   "metadata": {},
   "outputs": [],
   "source": [
    "vocab_size = 50\n",
    "\n",
    "while len(vocab) < vocab_size:\n",
    "    pair_freqs = compute_pair_freqs(splits) \n",
    "    best_pair = \"\"\n",
    "    max_freq = None\n",
    "    \n",
    "    for pair, freq in pair_freqs.items():\n",
    "        if max_freq is None or max_freq < freq:\n",
    "            best_pair = pair\n",
    "            max_freq = freq\n",
    "    splits = merge_pair(*best_pair, splits)\n",
    "    merges[best_pair] = best_pair[0] + best_pair[1]\n",
    "    vocab.append(best_pair[0] + best_pair[1])"
   ]
  },
  {
   "cell_type": "markdown",
   "id": "df6d1fc2",
   "metadata": {},
   "source": [
    "As a result, we’ve learned 19 merge rules (the initial vocabulary had a size of 31 — 30 characters in the alphabet, plus the special token):"
   ]
  },
  {
   "cell_type": "code",
   "execution_count": 127,
   "id": "b1531f4e",
   "metadata": {},
   "outputs": [
    {
     "name": "stdout",
     "output_type": "stream",
     "text": [
      "{('Ġ', 't'): 'Ġt', ('i', 's'): 'is', ('e', 'r'): 'er', ('Ġ', 'a'): 'Ġa', ('Ġt', 'o'): 'Ġto', ('e', 'n'): 'en', ('T', 'h'): 'Th', ('Th', 'is'): 'This', ('o', 'u'): 'ou', ('s', 'e'): 'se', ('Ġto', 'k'): 'Ġtok', ('Ġtok', 'en'): 'Ġtoken', ('n', 'd'): 'nd', ('Ġ', 'is'): 'Ġis', ('Ġt', 'h'): 'Ġth', ('Ġth', 'e'): 'Ġthe', ('i', 'n'): 'in', ('Ġa', 'b'): 'Ġab', ('Ġtoken', 'i'): 'Ġtokeni'}\n"
     ]
    }
   ],
   "source": [
    "print(merges)"
   ]
  },
  {
   "cell_type": "markdown",
   "id": "e05916de",
   "metadata": {},
   "source": [
    "And the vocabulary is composed of the special token, the initial alphabet, and all the results of the merges:"
   ]
  },
  {
   "cell_type": "code",
   "execution_count": 128,
   "id": "0237d59c",
   "metadata": {},
   "outputs": [
    {
     "name": "stdout",
     "output_type": "stream",
     "text": [
      "['<|endoftext|>', ',', '.', 'C', 'F', 'H', 'T', 'a', 'b', 'c', 'd', 'e', 'f', 'g', 'h', 'i', 'k', 'l', 'm', 'n', 'o', 'p', 'r', 's', 't', 'u', 'v', 'w', 'y', 'z', 'Ġ', 'Ġt', 'is', 'er', 'Ġa', 'Ġto', 'en', 'Th', 'This', 'ou', 'se', 'Ġtok', 'Ġtoken', 'nd', 'Ġis', 'Ġth', 'Ġthe', 'in', 'Ġab', 'Ġtokeni']\n"
     ]
    }
   ],
   "source": [
    "print(vocab)"
   ]
  },
  {
   "cell_type": "markdown",
   "id": "a831ae3d",
   "metadata": {},
   "source": [
    "To tokenize a new text, we pre-tokenize it, split it, then apply all the merge rules learned:"
   ]
  },
  {
   "cell_type": "code",
   "execution_count": 129,
   "id": "fe93c70c",
   "metadata": {},
   "outputs": [],
   "source": [
    "def tokenize(text):\n",
    "    pre_tokenize_result = tokenizer._tokenizer.pre_tokenizer.pre_tokenize_str(text)\n",
    "    pre_tokenized_text = [word for word, offset in pre_tokenize_result]\n",
    "    splits = [[l for l in word] for word in pre_tokenized_text]\n",
    "    for pair, merge in merges.items():\n",
    "        for idx, split in enumerate(splits):\n",
    "            i = 0\n",
    "            while i < len(split) - 1:\n",
    "                if split[i] == pair[0] and split[i + 1] == pair[1]:\n",
    "                    split = split[:i] + [merge] + split[i + 2 :]\n",
    "                else:\n",
    "                    i += 1\n",
    "            splits[idx] = split\n",
    "    \n",
    "    return sum(splits, [])"
   ]
  },
  {
   "cell_type": "markdown",
   "id": "3697dee7",
   "metadata": {},
   "source": [
    "We can try this on any text composed of characters in the alphabet:"
   ]
  },
  {
   "cell_type": "code",
   "execution_count": 130,
   "id": "ca5d16b7",
   "metadata": {},
   "outputs": [
    {
     "data": {
      "text/plain": [
       "['This', 'Ġis', 'Ġ', 'n', 'o', 't', 'Ġa', 'Ġtoken', '.']"
      ]
     },
     "execution_count": 130,
     "metadata": {},
     "output_type": "execute_result"
    }
   ],
   "source": [
    "tokenize(\"This is not a token.\")"
   ]
  },
  {
   "cell_type": "code",
   "execution_count": null,
   "id": "ca87794f",
   "metadata": {},
   "outputs": [],
   "source": []
  }
 ],
 "metadata": {
  "kernelspec": {
   "display_name": "venv (3.11.13)",
   "language": "python",
   "name": "python3"
  },
  "language_info": {
   "codemirror_mode": {
    "name": "ipython",
    "version": 3
   },
   "file_extension": ".py",
   "mimetype": "text/x-python",
   "name": "python",
   "nbconvert_exporter": "python",
   "pygments_lexer": "ipython3",
   "version": "3.11.13"
  }
 },
 "nbformat": 4,
 "nbformat_minor": 5
}
